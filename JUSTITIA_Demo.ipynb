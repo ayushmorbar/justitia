{
 "cells": [
  {
   "cell_type": "markdown",
   "id": "cf448a98",
   "metadata": {},
   "source": [
    "# 🏛️ JUSTITIA Demo: Transparent AI Policy Compiler\n",
    "\n",
    "**Justified System for Transparent Institutional Trust Intelligence & Audit**\n",
    "\n",
    "## 🎯 OpenAI Open Model Hackathon 2025\n",
    "\n",
    "This notebook demonstrates how JUSTITIA transforms organizational norms into executable, auditable policies using gpt-oss models with transparent reasoning.\n",
    "\n",
    "### Key Features:\n",
    "- 🔧 **Harmony format** for structured policy generation\n",
    "- 🧠 **Transparent chain-of-thought** reasoning\n",
    "- 🐍 **Executable policy validation** with comprehensive testing\n",
    "- 🔒 **Offline-first operation** for sensitive data\n",
    "- ⚖️ **Multi-domain support** (content moderation, code review, compliance)"
   ]
  },
  {
   "cell_type": "code",
   "execution_count": 13,
   "id": "8f7c4ac7",
   "metadata": {},
   "outputs": [
    {
     "data": {
      "text/html": [
       "<pre style=\"white-space:pre;overflow-x:auto;line-height:normal;font-family:Menlo,'DejaVu Sans Mono',consolas,'Courier New',monospace\"><span style=\"color: #008000; text-decoration-color: #008000; font-weight: bold\">🏛️ JUSTITIA Demo Environment Ready!</span>\n",
       "</pre>\n"
      ],
      "text/plain": [
       "\u001b[1;32m🏛️ JUSTITIA Demo Environment Ready!\u001b[0m\n"
      ]
     },
     "metadata": {},
     "output_type": "display_data"
    }
   ],
   "source": [
    "# Setup and imports\n",
    "import sys\n",
    "import json\n",
    "from pathlib import Path\n",
    "from rich.console import Console\n",
    "from rich.panel import Panel\n",
    "from rich.syntax import Syntax\n",
    "from rich.table import Table\n",
    "\n",
    "# Import JUSTITIA modules\n",
    "from justitia.policy import PolicyGenerator\n",
    "from justitia.tests import PolicyTestSuite\n",
    "from justitia.harmony import create_policy_generation_prompt\n",
    "\n",
    "console = Console()\n",
    "console.print(\"[bold green]🏛️ JUSTITIA Demo Environment Ready![/bold green]\")"
   ]
  },
  {
   "cell_type": "markdown",
   "id": "3e089983",
   "metadata": {},
   "source": [
    "## 📋 Step 1: Define Policy Norms\n",
    "\n",
    "Let's start by defining organizational norms in natural language:"
   ]
  },
  {
   "cell_type": "code",
   "execution_count": 14,
   "id": "08f34e44",
   "metadata": {},
   "outputs": [
    {
     "data": {
      "text/html": [
       "<pre style=\"white-space:pre;overflow-x:auto;line-height:normal;font-family:Menlo,'DejaVu Sans Mono',consolas,'Courier New',monospace\">╭───────────────────────────────── <span style=\"color: #000080; text-decoration-color: #000080; font-weight: bold\">📋 Content Moderation Norms</span> ─────────────────────────────────╮\n",
       "│                                                                                               │\n",
       "│ Content Moderation Policy for Community Platform                                              │\n",
       "│                                                                                               │\n",
       "│ Our platform is committed to maintaining a safe and inclusive environment. We prohibit:       │\n",
       "│                                                                                               │\n",
       "│ 1. Hate Speech: Content that attacks individuals or groups based on protected characteristics │\n",
       "│    including race, ethnicity, religion, gender, sexual orientation, or disability.            │\n",
       "│                                                                                               │\n",
       "│ 2. Harassment: Personal attacks, threats, doxxing, stalking, or coordinated harassment        │\n",
       "│    campaigns against users.                                                                   │\n",
       "│                                                                                               │\n",
       "│ 3. Explicit Content: Pornographic material, graphic violence, gore, or content that           │\n",
       "│    sexualizes minors.                                                                         │\n",
       "│                                                                                               │\n",
       "│ 4. Spam and Scams: Unsolicited promotional content, phishing attempts, fraudulent             │\n",
       "│    schemes, or repeated posting of identical content.                                         │\n",
       "│                                                                                               │\n",
       "│ Generate comprehensive JSON rules with regex patterns to automatically detect these           │\n",
       "│ violations. Include clear rationale for each rule and appropriate severity levels.            │\n",
       "│                                                                                               │\n",
       "╰───────────────────────────────────────────────────────────────────────────────────────────────╯\n",
       "</pre>\n"
      ],
      "text/plain": [
       "╭───────────────────────────────── \u001b[1;34m📋 Content Moderation Norms\u001b[0m ─────────────────────────────────╮\n",
       "│                                                                                               │\n",
       "│ Content Moderation Policy for Community Platform                                              │\n",
       "│                                                                                               │\n",
       "│ Our platform is committed to maintaining a safe and inclusive environment. We prohibit:       │\n",
       "│                                                                                               │\n",
       "│ 1. Hate Speech: Content that attacks individuals or groups based on protected characteristics │\n",
       "│    including race, ethnicity, religion, gender, sexual orientation, or disability.            │\n",
       "│                                                                                               │\n",
       "│ 2. Harassment: Personal attacks, threats, doxxing, stalking, or coordinated harassment        │\n",
       "│    campaigns against users.                                                                   │\n",
       "│                                                                                               │\n",
       "│ 3. Explicit Content: Pornographic material, graphic violence, gore, or content that           │\n",
       "│    sexualizes minors.                                                                         │\n",
       "│                                                                                               │\n",
       "│ 4. Spam and Scams: Unsolicited promotional content, phishing attempts, fraudulent             │\n",
       "│    schemes, or repeated posting of identical content.                                         │\n",
       "│                                                                                               │\n",
       "│ Generate comprehensive JSON rules with regex patterns to automatically detect these           │\n",
       "│ violations. Include clear rationale for each rule and appropriate severity levels.            │\n",
       "│                                                                                               │\n",
       "╰───────────────────────────────────────────────────────────────────────────────────────────────╯\n"
      ]
     },
     "metadata": {},
     "output_type": "display_data"
    }
   ],
   "source": [
    "# Content Moderation Policy Norms\n",
    "content_norms = \"\"\"\n",
    "Content Moderation Policy for Community Platform\n",
    "\n",
    "Our platform is committed to maintaining a safe and inclusive environment. We prohibit:\n",
    "\n",
    "1. Hate Speech: Content that attacks individuals or groups based on protected characteristics\n",
    "   including race, ethnicity, religion, gender, sexual orientation, or disability.\n",
    "\n",
    "2. Harassment: Personal attacks, threats, doxxing, stalking, or coordinated harassment \n",
    "   campaigns against users.\n",
    "\n",
    "3. Explicit Content: Pornographic material, graphic violence, gore, or content that \n",
    "   sexualizes minors.\n",
    "\n",
    "4. Spam and Scams: Unsolicited promotional content, phishing attempts, fraudulent \n",
    "   schemes, or repeated posting of identical content.\n",
    "\n",
    "Generate comprehensive JSON rules with regex patterns to automatically detect these \n",
    "violations. Include clear rationale for each rule and appropriate severity levels.\n",
    "\"\"\"\n",
    "\n",
    "console.print(Panel(content_norms, title=\"[bold blue]📋 Content Moderation Norms[/bold blue]\", expand=False))"
   ]
  },
  {
   "cell_type": "markdown",
   "id": "83a840ab",
   "metadata": {},
   "source": [
    "## 🧠 Step 2: Generate Policy with gpt-oss\n",
    "\n",
    "Now we'll use the gpt-oss model via Ollama to transform these norms into executable policies:"
   ]
  },
  {
   "cell_type": "code",
   "execution_count": 15,
   "id": "68d739da",
   "metadata": {},
   "outputs": [
    {
     "data": {
      "text/html": [
       "<pre style=\"white-space:pre;overflow-x:auto;line-height:normal;font-family:Menlo,'DejaVu Sans Mono',consolas,'Courier New',monospace\"><span style=\"color: #808000; text-decoration-color: #808000\">⏳ Initializing Policy Generator with gpt-oss...</span>\n",
       "</pre>\n"
      ],
      "text/plain": [
       "\u001b[33m⏳ Initializing Policy Generator with gpt-oss\u001b[0m\u001b[33m...\u001b[0m\n"
      ]
     },
     "metadata": {},
     "output_type": "display_data"
    },
    {
     "data": {
      "text/html": [
       "<pre style=\"white-space:pre;overflow-x:auto;line-height:normal;font-family:Menlo,'DejaVu Sans Mono',consolas,'Courier New',monospace\"><span style=\"color: #008000; text-decoration-color: #008000\">✅ Policy Generator ready!</span>\n",
       "</pre>\n"
      ],
      "text/plain": [
       "\u001b[32m✅ Policy Generator ready!\u001b[0m\n"
      ]
     },
     "metadata": {},
     "output_type": "display_data"
    }
   ],
   "source": [
    "# Create policy generator with high reasoning effort\n",
    "console.print(\"[yellow]⏳ Initializing Policy Generator with gpt-oss...[/yellow]\")\n",
    "\n",
    "pg = PolicyGenerator(\n",
    "    domain=\"content-moderation\",\n",
    "    reasoning_effort=\"high\"  # Request detailed chain-of-thought\n",
    ")\n",
    "\n",
    "console.print(\"[green]✅ Policy Generator ready![/green]\")"
   ]
  },
  {
   "cell_type": "code",
   "execution_count": 16,
   "id": "c9c47f03",
   "metadata": {},
   "outputs": [
    {
     "data": {
      "text/html": [
       "<pre style=\"white-space:pre;overflow-x:auto;line-height:normal;font-family:Menlo,'DejaVu Sans Mono',consolas,'Courier New',monospace\"><span style=\"color: #808000; text-decoration-color: #808000\">🧠 Generating policy with gpt-oss </span><span style=\"color: #808000; text-decoration-color: #808000; font-weight: bold\">(</span><span style=\"color: #808000; text-decoration-color: #808000\">this may take </span><span style=\"color: #808000; text-decoration-color: #808000; font-weight: bold\">30</span><span style=\"color: #808000; text-decoration-color: #808000\">-</span><span style=\"color: #808000; text-decoration-color: #808000; font-weight: bold\">60</span><span style=\"color: #808000; text-decoration-color: #808000\"> seconds</span><span style=\"color: #808000; text-decoration-color: #808000; font-weight: bold\">)</span><span style=\"color: #808000; text-decoration-color: #808000\">...</span>\n",
       "</pre>\n"
      ],
      "text/plain": [
       "\u001b[33m🧠 Generating policy with gpt-oss \u001b[0m\u001b[1;33m(\u001b[0m\u001b[33mthis may take \u001b[0m\u001b[1;33m30\u001b[0m\u001b[33m-\u001b[0m\u001b[1;33m60\u001b[0m\u001b[33m seconds\u001b[0m\u001b[1;33m)\u001b[0m\u001b[33m...\u001b[0m\n"
      ]
     },
     "metadata": {},
     "output_type": "display_data"
    },
    {
     "data": {
      "text/html": [
       "<pre style=\"white-space:pre;overflow-x:auto;line-height:normal;font-family:Menlo,'DejaVu Sans Mono',consolas,'Courier New',monospace\"><span style=\"color: #008000; text-decoration-color: #008000; font-weight: bold\">✅ Policy generation complete!</span>\n",
       "</pre>\n"
      ],
      "text/plain": [
       "\u001b[1;32m✅ Policy generation complete!\u001b[0m\n"
      ]
     },
     "metadata": {},
     "output_type": "display_data"
    },
    {
     "data": {
      "text/html": [
       "<pre style=\"white-space:pre;overflow-x:auto;line-height:normal;font-family:Menlo,'DejaVu Sans Mono',consolas,'Courier New',monospace\"><span style=\"color: #008080; text-decoration-color: #008080\">📋 Generated </span><span style=\"color: #008080; text-decoration-color: #008080; font-weight: bold\">4</span><span style=\"color: #008080; text-decoration-color: #008080\"> policy rules</span>\n",
       "</pre>\n"
      ],
      "text/plain": [
       "\u001b[36m📋 Generated \u001b[0m\u001b[1;36m4\u001b[0m\u001b[36m policy rules\u001b[0m\n"
      ]
     },
     "metadata": {},
     "output_type": "display_data"
    },
    {
     "data": {
      "text/html": [
       "<pre style=\"white-space:pre;overflow-x:auto;line-height:normal;font-family:Menlo,'DejaVu Sans Mono',consolas,'Courier New',monospace\"><span style=\"font-style: italic\">                                              </span><span style=\"color: #008080; text-decoration-color: #008080; font-weight: bold; font-style: italic\">Example Generated Rule</span><span style=\"font-style: italic\">                                               </span>\n",
       "┏━━━━━━━━━━━━━┳━━━━━━━━━━━━━━━━━━━━━━━━━━━━━━━━━━━━━━━━━━━━━━━━━━━━━━━━━━━━━━━━━━━━━━━━━━━━━━━━━━━━━━━━━━━━━━━━━━━┓\n",
       "┃<span style=\"font-weight: bold\"> Field       </span>┃<span style=\"font-weight: bold\"> Value                                                                                             </span>┃\n",
       "┡━━━━━━━━━━━━━╇━━━━━━━━━━━━━━━━━━━━━━━━━━━━━━━━━━━━━━━━━━━━━━━━━━━━━━━━━━━━━━━━━━━━━━━━━━━━━━━━━━━━━━━━━━━━━━━━━━━┩\n",
       "│<span style=\"color: #008080; text-decoration-color: #008080\"> ID          </span>│<span style=\"color: #c0c0c0; text-decoration-color: #c0c0c0\"> rule_001                                                                                          </span>│\n",
       "│<span style=\"color: #008080; text-decoration-color: #008080\"> Description </span>│<span style=\"color: #c0c0c0; text-decoration-color: #c0c0c0\"> Detect hate speech targeting protected groups                                                     </span>│\n",
       "│<span style=\"color: #008080; text-decoration-color: #008080\"> Pattern     </span>│<span style=\"color: #c0c0c0; text-decoration-color: #c0c0c0\"> (?i)\\b(nigger|nigga|faggot|kike|chink|spic|gay\\s?s...                                             </span>│\n",
       "│<span style=\"color: #008080; text-decoration-color: #008080\"> Severity    </span>│<span style=\"color: #c0c0c0; text-decoration-color: #c0c0c0\"> high                                                                                              </span>│\n",
       "│<span style=\"color: #008080; text-decoration-color: #008080\"> Rationale   </span>│<span style=\"color: #c0c0c0; text-decoration-color: #c0c0c0\"> Hate speech directly attacks individuals or groups based on protected characteristics, causing    </span>│\n",
       "│<span style=\"color: #008080; text-decoration-color: #008080\">             </span>│<span style=\"color: #c0c0c0; text-decoration-color: #c0c0c0\"> psych...                                                                                          </span>│\n",
       "└─────────────┴───────────────────────────────────────────────────────────────────────────────────────────────────┘\n",
       "</pre>\n"
      ],
      "text/plain": [
       "\u001b[3m                                              \u001b[0m\u001b[1;3;36mExample Generated Rule\u001b[0m\u001b[3m                                               \u001b[0m\n",
       "┏━━━━━━━━━━━━━┳━━━━━━━━━━━━━━━━━━━━━━━━━━━━━━━━━━━━━━━━━━━━━━━━━━━━━━━━━━━━━━━━━━━━━━━━━━━━━━━━━━━━━━━━━━━━━━━━━━━┓\n",
       "┃\u001b[1m \u001b[0m\u001b[1mField      \u001b[0m\u001b[1m \u001b[0m┃\u001b[1m \u001b[0m\u001b[1mValue                                                                                            \u001b[0m\u001b[1m \u001b[0m┃\n",
       "┡━━━━━━━━━━━━━╇━━━━━━━━━━━━━━━━━━━━━━━━━━━━━━━━━━━━━━━━━━━━━━━━━━━━━━━━━━━━━━━━━━━━━━━━━━━━━━━━━━━━━━━━━━━━━━━━━━━┩\n",
       "│\u001b[36m \u001b[0m\u001b[36mID         \u001b[0m\u001b[36m \u001b[0m│\u001b[37m \u001b[0m\u001b[37mrule_001                                                                                         \u001b[0m\u001b[37m \u001b[0m│\n",
       "│\u001b[36m \u001b[0m\u001b[36mDescription\u001b[0m\u001b[36m \u001b[0m│\u001b[37m \u001b[0m\u001b[37mDetect hate speech targeting protected groups                                                    \u001b[0m\u001b[37m \u001b[0m│\n",
       "│\u001b[36m \u001b[0m\u001b[36mPattern    \u001b[0m\u001b[36m \u001b[0m│\u001b[37m \u001b[0m\u001b[37m(?i)\\b(nigger|nigga|faggot|kike|chink|spic|gay\\s?s...                                            \u001b[0m\u001b[37m \u001b[0m│\n",
       "│\u001b[36m \u001b[0m\u001b[36mSeverity   \u001b[0m\u001b[36m \u001b[0m│\u001b[37m \u001b[0m\u001b[37mhigh                                                                                             \u001b[0m\u001b[37m \u001b[0m│\n",
       "│\u001b[36m \u001b[0m\u001b[36mRationale  \u001b[0m\u001b[36m \u001b[0m│\u001b[37m \u001b[0m\u001b[37mHate speech directly attacks individuals or groups based on protected characteristics, causing   \u001b[0m\u001b[37m \u001b[0m│\n",
       "│\u001b[36m             \u001b[0m│\u001b[37m \u001b[0m\u001b[37mpsych...                                                                                         \u001b[0m\u001b[37m \u001b[0m│\n",
       "└─────────────┴───────────────────────────────────────────────────────────────────────────────────────────────────┘\n"
      ]
     },
     "metadata": {},
     "output_type": "display_data"
    }
   ],
   "source": [
    "# Generate policy with transparent reasoning\n",
    "console.print(\"[yellow]🧠 Generating policy with gpt-oss (this may take 30-60 seconds)...[/yellow]\")\n",
    "\n",
    "try:\n",
    "    result = pg.generate_policy(content_norms)\n",
    "    \n",
    "    policy_json = result.get(\"policy_json\", {})\n",
    "    audit_notebook = result.get(\"audit_notebook\", \"\")\n",
    "    \n",
    "    console.print(\"[bold green]✅ Policy generation complete![/bold green]\")\n",
    "    \n",
    "    # Display policy summary\n",
    "    if policy_json:\n",
    "        rules_count = len(policy_json.get(\"rules\", []))\n",
    "        console.print(f\"[cyan]📋 Generated {rules_count} policy rules[/cyan]\")\n",
    "        \n",
    "        # Show first rule as example\n",
    "        if policy_json.get(\"rules\"):\n",
    "            first_rule = policy_json[\"rules\"][0]\n",
    "            rule_display = {\n",
    "                \"ID\": first_rule.get(\"id\", \"N/A\"),\n",
    "                \"Description\": first_rule.get(\"description\", \"N/A\"),\n",
    "                \"Pattern\": first_rule.get(\"pattern\", \"N/A\")[:50] + \"...\",\n",
    "                \"Severity\": first_rule.get(\"severity\", \"N/A\"),\n",
    "                \"Rationale\": first_rule.get(\"rationale\", \"N/A\")[:100] + \"...\"\n",
    "            }\n",
    "            \n",
    "            table = Table(title=\"[bold cyan]Example Generated Rule[/bold cyan]\")\n",
    "            table.add_column(\"Field\", style=\"cyan\")\n",
    "            table.add_column(\"Value\", style=\"white\")\n",
    "            \n",
    "            for field, value in rule_display.items():\n",
    "                table.add_row(field, str(value))\n",
    "            \n",
    "            console.print(table)\n",
    "    \n",
    "except Exception as e:\n",
    "    console.print(f\"[red]❌ Error: {str(e)}[/red]\")\n",
    "    console.print(\"[yellow]💡 Make sure Ollama is running: ollama serve[/yellow]\")"
   ]
  },
  {
   "cell_type": "code",
   "execution_count": 19,
   "id": "52718b0e",
   "metadata": {},
   "outputs": [
    {
     "data": {
      "text/html": [
       "<pre style=\"white-space:pre;overflow-x:auto;line-height:normal;font-family:Menlo,'DejaVu Sans Mono',consolas,'Courier New',monospace\"><span style=\"color: #008080; text-decoration-color: #008080\">PolicyTestSuite signature: </span><span style=\"color: #008080; text-decoration-color: #008080; font-weight: bold\">(</span><span style=\"color: #008080; text-decoration-color: #008080\">self, policy_path: pathlib.Path = </span><span style=\"color: #008080; text-decoration-color: #008080; font-style: italic\">None</span><span style=\"color: #008080; text-decoration-color: #008080\">, cases_path: pathlib.Path = </span><span style=\"color: #008080; text-decoration-color: #008080; font-style: italic\">None</span><span style=\"color: #008080; text-decoration-color: #008080\">, policy_data: </span>\n",
       "<span style=\"color: #008080; text-decoration-color: #008080\">Dict = </span><span style=\"color: #008080; text-decoration-color: #008080; font-style: italic\">None</span><span style=\"color: #008080; text-decoration-color: #008080\">, test_cases_data: Dict = </span><span style=\"color: #008080; text-decoration-color: #008080; font-style: italic\">None</span><span style=\"color: #008080; text-decoration-color: #008080; font-weight: bold\">)</span>\n",
       "</pre>\n"
      ],
      "text/plain": [
       "\u001b[36mPolicyTestSuite signature: \u001b[0m\u001b[1;36m(\u001b[0m\u001b[36mself, policy_path: pathlib.Path = \u001b[0m\u001b[3;36mNone\u001b[0m\u001b[36m, cases_path: pathlib.Path = \u001b[0m\u001b[3;36mNone\u001b[0m\u001b[36m, policy_data: \u001b[0m\n",
       "\u001b[36mDict\u001b[0m\u001b[36m = \u001b[0m\u001b[3;36mNone\u001b[0m\u001b[36m, test_cases_data: Dict\u001b[0m\u001b[36m = \u001b[0m\u001b[3;36mNone\u001b[0m\u001b[1;36m)\u001b[0m\n"
      ]
     },
     "metadata": {},
     "output_type": "display_data"
    }
   ],
   "source": [
    "# Force reload the tests module to get updated PolicyTestSuite\n",
    "import importlib\n",
    "import justitia.tests\n",
    "importlib.reload(justitia.tests)\n",
    "from justitia.tests import PolicyTestSuite\n",
    "\n",
    "# Verify the updated interface\n",
    "import inspect\n",
    "sig = inspect.signature(PolicyTestSuite.__init__)\n",
    "console.print(f\"[cyan]PolicyTestSuite signature: {sig}[/cyan]\")"
   ]
  },
  {
   "cell_type": "markdown",
   "id": "eaa06b9c",
   "metadata": {},
   "source": [
    "## 🔍 Step 3: Examine Transparent Reasoning\n",
    "\n",
    "Let's look at the AI's chain-of-thought reasoning process:"
   ]
  },
  {
   "cell_type": "code",
   "execution_count": 21,
   "id": "6c987e8a",
   "metadata": {},
   "outputs": [
    {
     "data": {
      "text/html": [
       "<pre style=\"white-space:pre;overflow-x:auto;line-height:normal;font-family:Menlo,'DejaVu Sans Mono',consolas,'Courier New',monospace\"><span style=\"color: #808000; text-decoration-color: #808000\">No reasoning captured in this session</span>\n",
       "</pre>\n"
      ],
      "text/plain": [
       "\u001b[33mNo reasoning captured in this session\u001b[0m\n"
      ]
     },
     "metadata": {},
     "output_type": "display_data"
    }
   ],
   "source": [
    "# Display the reasoning process\n",
    "if 'audit_notebook' in locals() and audit_notebook:\n",
    "    console.print(Panel(\n",
    "        audit_notebook[:500] + \"...\" if len(audit_notebook) > 500 else audit_notebook,\n",
    "        title=\"[bold magenta]🔍 AI Reasoning Process (Chain-of-Thought)[/bold magenta]\",\n",
    "        expand=False\n",
    "    ))\n",
    "else:\n",
    "    console.print(\"[yellow]No reasoning captured in this session[/yellow]\")"
   ]
  },
  {
   "cell_type": "markdown",
   "id": "6d06855f",
   "metadata": {},
   "source": [
    "## 📊 Step 4: Display Complete Policy JSON\n",
    "\n",
    "Here's the complete generated policy in structured JSON format:"
   ]
  },
  {
   "cell_type": "code",
   "execution_count": 22,
   "id": "1d55ed3b",
   "metadata": {},
   "outputs": [
    {
     "data": {
      "text/html": [
       "<pre style=\"white-space:pre;overflow-x:auto;line-height:normal;font-family:Menlo,'DejaVu Sans Mono',consolas,'Courier New',monospace\">╭─────────────────────────────────────────── <span style=\"color: #008000; text-decoration-color: #008000; font-weight: bold\">📄 Generated Policy JSON</span> ────────────────────────────────────────────╮\n",
       "│ <span style=\"color: #e3e3dd; text-decoration-color: #e3e3dd; background-color: #272822; font-weight: bold\">  </span><span style=\"color: #656660; text-decoration-color: #656660; background-color: #272822\"> 1 </span><span style=\"color: #f8f8f2; text-decoration-color: #f8f8f2; background-color: #272822\">{</span><span style=\"background-color: #272822\">                                                                                                         </span> │\n",
       "│ <span style=\"color: #e3e3dd; text-decoration-color: #e3e3dd; background-color: #272822; font-weight: bold\">  </span><span style=\"color: #656660; text-decoration-color: #656660; background-color: #272822\"> 2 </span><span style=\"color: #f8f8f2; text-decoration-color: #f8f8f2; background-color: #272822\">  </span><span style=\"color: #ff4689; text-decoration-color: #ff4689; background-color: #272822\">\"domain\"</span><span style=\"color: #f8f8f2; text-decoration-color: #f8f8f2; background-color: #272822\">: </span><span style=\"color: #e6db74; text-decoration-color: #e6db74; background-color: #272822\">\"content-moderation\"</span><span style=\"color: #f8f8f2; text-decoration-color: #f8f8f2; background-color: #272822\">,</span><span style=\"background-color: #272822\">                                                                         </span> │\n",
       "│ <span style=\"color: #e3e3dd; text-decoration-color: #e3e3dd; background-color: #272822; font-weight: bold\">  </span><span style=\"color: #656660; text-decoration-color: #656660; background-color: #272822\"> 3 </span><span style=\"color: #f8f8f2; text-decoration-color: #f8f8f2; background-color: #272822\">  </span><span style=\"color: #ff4689; text-decoration-color: #ff4689; background-color: #272822\">\"version\"</span><span style=\"color: #f8f8f2; text-decoration-color: #f8f8f2; background-color: #272822\">: </span><span style=\"color: #e6db74; text-decoration-color: #e6db74; background-color: #272822\">\"1.0\"</span><span style=\"color: #f8f8f2; text-decoration-color: #f8f8f2; background-color: #272822\">,</span><span style=\"background-color: #272822\">                                                                                       </span> │\n",
       "│ <span style=\"color: #e3e3dd; text-decoration-color: #e3e3dd; background-color: #272822; font-weight: bold\">  </span><span style=\"color: #656660; text-decoration-color: #656660; background-color: #272822\"> 4 </span><span style=\"color: #f8f8f2; text-decoration-color: #f8f8f2; background-color: #272822\">  </span><span style=\"color: #ff4689; text-decoration-color: #ff4689; background-color: #272822\">\"rules\"</span><span style=\"color: #f8f8f2; text-decoration-color: #f8f8f2; background-color: #272822\">: [</span><span style=\"background-color: #272822\">                                                                                              </span> │\n",
       "│ <span style=\"color: #e3e3dd; text-decoration-color: #e3e3dd; background-color: #272822; font-weight: bold\">  </span><span style=\"color: #656660; text-decoration-color: #656660; background-color: #272822\"> 5 </span><span style=\"color: #f8f8f2; text-decoration-color: #f8f8f2; background-color: #272822\">    {</span><span style=\"background-color: #272822\">                                                                                                     </span> │\n",
       "│ <span style=\"color: #e3e3dd; text-decoration-color: #e3e3dd; background-color: #272822; font-weight: bold\">  </span><span style=\"color: #656660; text-decoration-color: #656660; background-color: #272822\"> 6 </span><span style=\"color: #f8f8f2; text-decoration-color: #f8f8f2; background-color: #272822\">      </span><span style=\"color: #ff4689; text-decoration-color: #ff4689; background-color: #272822\">\"id\"</span><span style=\"color: #f8f8f2; text-decoration-color: #f8f8f2; background-color: #272822\">: </span><span style=\"color: #e6db74; text-decoration-color: #e6db74; background-color: #272822\">\"rule_001\"</span><span style=\"color: #f8f8f2; text-decoration-color: #f8f8f2; background-color: #272822\">,</span><span style=\"background-color: #272822\">                                                                                   </span> │\n",
       "│ <span style=\"color: #e3e3dd; text-decoration-color: #e3e3dd; background-color: #272822; font-weight: bold\">  </span><span style=\"color: #656660; text-decoration-color: #656660; background-color: #272822\"> 7 </span><span style=\"color: #f8f8f2; text-decoration-color: #f8f8f2; background-color: #272822\">      </span><span style=\"color: #ff4689; text-decoration-color: #ff4689; background-color: #272822\">\"description\"</span><span style=\"color: #f8f8f2; text-decoration-color: #f8f8f2; background-color: #272822\">: </span><span style=\"color: #e6db74; text-decoration-color: #e6db74; background-color: #272822\">\"Detect hate speech targeting protected groups\"</span><span style=\"color: #f8f8f2; text-decoration-color: #f8f8f2; background-color: #272822\">,</span><span style=\"background-color: #272822\">                                     </span> │\n",
       "│ <span style=\"color: #e3e3dd; text-decoration-color: #e3e3dd; background-color: #272822; font-weight: bold\">  </span><span style=\"color: #656660; text-decoration-color: #656660; background-color: #272822\"> 8 </span><span style=\"color: #f8f8f2; text-decoration-color: #f8f8f2; background-color: #272822\">      </span><span style=\"color: #ff4689; text-decoration-color: #ff4689; background-color: #272822\">\"pattern\"</span><span style=\"color: #f8f8f2; text-decoration-color: #f8f8f2; background-color: #272822\">: </span><span style=\"color: #e6db74; text-decoration-color: #e6db74; background-color: #272822\">\"(?i)\\\\b(nigger|nigga|faggot|kike|chink|spic|gay\\\\s?sex|\\\\bwhite\\\\s?supremacist\\\\b|anti\\\\</span> │\n",
       "│ <span style=\"color: #e3e3dd; text-decoration-color: #e3e3dd; background-color: #272822; font-weight: bold\">  </span><span style=\"color: #656660; text-decoration-color: #656660; background-color: #272822\"> 9 </span><span style=\"color: #f8f8f2; text-decoration-color: #f8f8f2; background-color: #272822\">      </span><span style=\"color: #ff4689; text-decoration-color: #ff4689; background-color: #272822\">\"severity\"</span><span style=\"color: #f8f8f2; text-decoration-color: #f8f8f2; background-color: #272822\">: </span><span style=\"color: #e6db74; text-decoration-color: #e6db74; background-color: #272822\">\"high\"</span><span style=\"color: #f8f8f2; text-decoration-color: #f8f8f2; background-color: #272822\">,</span><span style=\"background-color: #272822\">                                                                                 </span> │\n",
       "│ <span style=\"color: #e3e3dd; text-decoration-color: #e3e3dd; background-color: #272822; font-weight: bold\">  </span><span style=\"color: #656660; text-decoration-color: #656660; background-color: #272822\">10 </span><span style=\"color: #f8f8f2; text-decoration-color: #f8f8f2; background-color: #272822\">      </span><span style=\"color: #ff4689; text-decoration-color: #ff4689; background-color: #272822\">\"rationale\"</span><span style=\"color: #f8f8f2; text-decoration-color: #f8f8f2; background-color: #272822\">: </span><span style=\"color: #e6db74; text-decoration-color: #e6db74; background-color: #272822\">\"Hate speech directly attacks individuals or groups based on protected characteristics,</span> │\n",
       "│ <span style=\"color: #e3e3dd; text-decoration-color: #e3e3dd; background-color: #272822; font-weight: bold\">  </span><span style=\"color: #656660; text-decoration-color: #656660; background-color: #272822\">11 </span><span style=\"color: #f8f8f2; text-decoration-color: #f8f8f2; background-color: #272822\">    },</span><span style=\"background-color: #272822\">                                                                                                    </span> │\n",
       "│ <span style=\"color: #e3e3dd; text-decoration-color: #e3e3dd; background-color: #272822; font-weight: bold\">  </span><span style=\"color: #656660; text-decoration-color: #656660; background-color: #272822\">12 </span><span style=\"color: #f8f8f2; text-decoration-color: #f8f8f2; background-color: #272822\">    {</span><span style=\"background-color: #272822\">                                                                                                     </span> │\n",
       "│ <span style=\"color: #e3e3dd; text-decoration-color: #e3e3dd; background-color: #272822; font-weight: bold\">  </span><span style=\"color: #656660; text-decoration-color: #656660; background-color: #272822\">13 </span><span style=\"color: #f8f8f2; text-decoration-color: #f8f8f2; background-color: #272822\">      </span><span style=\"color: #ff4689; text-decoration-color: #ff4689; background-color: #272822\">\"id\"</span><span style=\"color: #f8f8f2; text-decoration-color: #f8f8f2; background-color: #272822\">: </span><span style=\"color: #e6db74; text-decoration-color: #e6db74; background-color: #272822\">\"rule_002\"</span><span style=\"color: #f8f8f2; text-decoration-color: #f8f8f2; background-color: #272822\">,</span><span style=\"background-color: #272822\">                                                                                   </span> │\n",
       "│ <span style=\"color: #e3e3dd; text-decoration-color: #e3e3dd; background-color: #272822; font-weight: bold\">  </span><span style=\"color: #656660; text-decoration-color: #656660; background-color: #272822\">14 </span><span style=\"color: #f8f8f2; text-decoration-color: #f8f8f2; background-color: #272822\">      </span><span style=\"color: #ff4689; text-decoration-color: #ff4689; background-color: #272822\">\"description\"</span><span style=\"color: #f8f8f2; text-decoration-color: #f8f8f2; background-color: #272822\">: </span><span style=\"color: #e6db74; text-decoration-color: #e6db74; background-color: #272822\">\"Detect harassment, threats, doxxing, and stalking language\"</span><span style=\"color: #f8f8f2; text-decoration-color: #f8f8f2; background-color: #272822\">,</span><span style=\"background-color: #272822\">                        </span> │\n",
       "│ <span style=\"color: #e3e3dd; text-decoration-color: #e3e3dd; background-color: #272822; font-weight: bold\">  </span><span style=\"color: #656660; text-decoration-color: #656660; background-color: #272822\">15 </span><span style=\"color: #f8f8f2; text-decoration-color: #f8f8f2; background-color: #272822\">      </span><span style=\"color: #ff4689; text-decoration-color: #ff4689; background-color: #272822\">\"pattern\"</span><span style=\"color: #f8f8f2; text-decoration-color: #f8f8f2; background-color: #272822\">: </span><span style=\"color: #e6db74; text-decoration-color: #e6db74; background-color: #272822\">\"(?i)\\\\b(kill\\\\s?you|murder|rape|threat|dox|doxing|stalk|follow\\\\s?me|\\\\b\\\\w+\\\\s?hate\\\\b)</span> │\n",
       "│ <span style=\"color: #e3e3dd; text-decoration-color: #e3e3dd; background-color: #272822; font-weight: bold\">  </span><span style=\"color: #656660; text-decoration-color: #656660; background-color: #272822\">16 </span><span style=\"color: #f8f8f2; text-decoration-color: #f8f8f2; background-color: #272822\">      </span><span style=\"color: #ff4689; text-decoration-color: #ff4689; background-color: #272822\">\"severity\"</span><span style=\"color: #f8f8f2; text-decoration-color: #f8f8f2; background-color: #272822\">: </span><span style=\"color: #e6db74; text-decoration-color: #e6db74; background-color: #272822\">\"high\"</span><span style=\"color: #f8f8f2; text-decoration-color: #f8f8f2; background-color: #272822\">,</span><span style=\"background-color: #272822\">                                                                                 </span> │\n",
       "│ <span style=\"color: #e3e3dd; text-decoration-color: #e3e3dd; background-color: #272822; font-weight: bold\">  </span><span style=\"color: #656660; text-decoration-color: #656660; background-color: #272822\">17 </span><span style=\"color: #f8f8f2; text-decoration-color: #f8f8f2; background-color: #272822\">      </span><span style=\"color: #ff4689; text-decoration-color: #ff4689; background-color: #272822\">\"rationale\"</span><span style=\"color: #f8f8f2; text-decoration-color: #f8f8f2; background-color: #272822\">: </span><span style=\"color: #e6db74; text-decoration-color: #e6db74; background-color: #272822\">\"Harassing content can lead to intimidation, fear, or physical danger for the target.\"</span><span style=\"background-color: #272822\"> </span> │\n",
       "│ <span style=\"color: #e3e3dd; text-decoration-color: #e3e3dd; background-color: #272822; font-weight: bold\">  </span><span style=\"color: #656660; text-decoration-color: #656660; background-color: #272822\">18 </span><span style=\"color: #f8f8f2; text-decoration-color: #f8f8f2; background-color: #272822\">    },</span><span style=\"background-color: #272822\">                                                                                                    </span> │\n",
       "│ <span style=\"color: #e3e3dd; text-decoration-color: #e3e3dd; background-color: #272822; font-weight: bold\">  </span><span style=\"color: #656660; text-decoration-color: #656660; background-color: #272822\">19 </span><span style=\"color: #f8f8f2; text-decoration-color: #f8f8f2; background-color: #272822\">    {</span><span style=\"background-color: #272822\">                                                                                                     </span> │\n",
       "│ <span style=\"color: #e3e3dd; text-decoration-color: #e3e3dd; background-color: #272822; font-weight: bold\">  </span><span style=\"color: #656660; text-decoration-color: #656660; background-color: #272822\">20 </span><span style=\"color: #f8f8f2; text-decoration-color: #f8f8f2; background-color: #272822\">      </span><span style=\"color: #ff4689; text-decoration-color: #ff4689; background-color: #272822\">\"id\"</span><span style=\"color: #f8f8f2; text-decoration-color: #f8f8f2; background-color: #272822\">: </span><span style=\"color: #e6db74; text-decoration-color: #e6db74; background-color: #272822\">\"rule_003\"</span><span style=\"color: #f8f8f2; text-decoration-color: #f8f8f2; background-color: #272822\">,</span><span style=\"background-color: #272822\">                                                                                   </span> │\n",
       "│ <span style=\"color: #e3e3dd; text-decoration-color: #e3e3dd; background-color: #272822; font-weight: bold\">  </span><span style=\"color: #656660; text-decoration-color: #656660; background-color: #272822\">21 </span><span style=\"color: #f8f8f2; text-decoration-color: #f8f8f2; background-color: #272822\">      </span><span style=\"color: #ff4689; text-decoration-color: #ff4689; background-color: #272822\">\"description\"</span><span style=\"color: #f8f8f2; text-decoration-color: #f8f8f2; background-color: #272822\">: </span><span style=\"color: #e6db74; text-decoration-color: #e6db74; background-color: #272822\">\"Detect explicit pornographic or graphic violent content, including sexualization of </span> │\n",
       "│ <span style=\"color: #e3e3dd; text-decoration-color: #e3e3dd; background-color: #272822; font-weight: bold\">  </span><span style=\"color: #656660; text-decoration-color: #656660; background-color: #272822\">22 </span><span style=\"color: #f8f8f2; text-decoration-color: #f8f8f2; background-color: #272822\">      </span><span style=\"color: #ff4689; text-decoration-color: #ff4689; background-color: #272822\">\"pattern\"</span><span style=\"color: #f8f8f2; text-decoration-color: #f8f8f2; background-color: #272822\">: </span><span style=\"color: #e6db74; text-decoration-color: #e6db74; background-color: #272822\">\"(?i)\\\\b(porn|xxx|sex|nude|gore|blood|violence|rape|child\\\\s?porn|sexual\\\\s?content\\\\s?mi</span> │\n",
       "│ <span style=\"color: #e3e3dd; text-decoration-color: #e3e3dd; background-color: #272822; font-weight: bold\">  </span><span style=\"color: #656660; text-decoration-color: #656660; background-color: #272822\">23 </span><span style=\"color: #f8f8f2; text-decoration-color: #f8f8f2; background-color: #272822\">      </span><span style=\"color: #ff4689; text-decoration-color: #ff4689; background-color: #272822\">\"severity\"</span><span style=\"color: #f8f8f2; text-decoration-color: #f8f8f2; background-color: #272822\">: </span><span style=\"color: #e6db74; text-decoration-color: #e6db74; background-color: #272822\">\"high\"</span><span style=\"color: #f8f8f2; text-decoration-color: #f8f8f2; background-color: #272822\">,</span><span style=\"background-color: #272822\">                                                                                 </span> │\n",
       "│ <span style=\"color: #e3e3dd; text-decoration-color: #e3e3dd; background-color: #272822; font-weight: bold\">  </span><span style=\"color: #656660; text-decoration-color: #656660; background-color: #272822\">24 </span><span style=\"color: #f8f8f2; text-decoration-color: #f8f8f2; background-color: #272822\">      </span><span style=\"color: #ff4689; text-decoration-color: #ff4689; background-color: #272822\">\"rationale\"</span><span style=\"color: #f8f8f2; text-decoration-color: #f8f8f2; background-color: #272822\">: </span><span style=\"color: #e6db74; text-decoration-color: #e6db74; background-color: #272822\">\"Explicit content involving minors or graphic violence is illegal and harmful; it viola</span> │\n",
       "│ <span style=\"color: #e3e3dd; text-decoration-color: #e3e3dd; background-color: #272822; font-weight: bold\">  </span><span style=\"color: #656660; text-decoration-color: #656660; background-color: #272822\">25 </span><span style=\"color: #f8f8f2; text-decoration-color: #f8f8f2; background-color: #272822\">    },</span><span style=\"background-color: #272822\">                                                                                                    </span> │\n",
       "│ <span style=\"color: #e3e3dd; text-decoration-color: #e3e3dd; background-color: #272822; font-weight: bold\">  </span><span style=\"color: #656660; text-decoration-color: #656660; background-color: #272822\">26 </span><span style=\"color: #f8f8f2; text-decoration-color: #f8f8f2; background-color: #272822\">    {</span><span style=\"background-color: #272822\">                                                                                                     </span> │\n",
       "│ <span style=\"color: #e3e3dd; text-decoration-color: #e3e3dd; background-color: #272822; font-weight: bold\">  </span><span style=\"color: #656660; text-decoration-color: #656660; background-color: #272822\">27 </span><span style=\"color: #f8f8f2; text-decoration-color: #f8f8f2; background-color: #272822\">      </span><span style=\"color: #ff4689; text-decoration-color: #ff4689; background-color: #272822\">\"id\"</span><span style=\"color: #f8f8f2; text-decoration-color: #f8f8f2; background-color: #272822\">: </span><span style=\"color: #e6db74; text-decoration-color: #e6db74; background-color: #272822\">\"rule_004\"</span><span style=\"color: #f8f8f2; text-decoration-color: #f8f8f2; background-color: #272822\">,</span><span style=\"background-color: #272822\">                                                                                   </span> │\n",
       "│ <span style=\"color: #e3e3dd; text-decoration-color: #e3e3dd; background-color: #272822; font-weight: bold\">  </span><span style=\"color: #656660; text-decoration-color: #656660; background-color: #272822\">28 </span><span style=\"color: #f8f8f2; text-decoration-color: #f8f8f2; background-color: #272822\">      </span><span style=\"color: #ff4689; text-decoration-color: #ff4689; background-color: #272822\">\"description\"</span><span style=\"color: #f8f8f2; text-decoration-color: #f8f8f2; background-color: #272822\">: </span><span style=\"color: #e6db74; text-decoration-color: #e6db74; background-color: #272822\">\"Detect spam, phishing, scams, and repeated identical posts\"</span><span style=\"color: #f8f8f2; text-decoration-color: #f8f8f2; background-color: #272822\">,</span><span style=\"background-color: #272822\">                        </span> │\n",
       "│ <span style=\"color: #e3e3dd; text-decoration-color: #e3e3dd; background-color: #272822; font-weight: bold\">  </span><span style=\"color: #656660; text-decoration-color: #656660; background-color: #272822\">29 </span><span style=\"color: #f8f8f2; text-decoration-color: #f8f8f2; background-color: #272822\">      </span><span style=\"color: #ff4689; text-decoration-color: #ff4689; background-color: #272822\">\"pattern\"</span><span style=\"color: #f8f8f2; text-decoration-color: #f8f8f2; background-color: #272822\">: </span><span style=\"color: #e6db74; text-decoration-color: #e6db74; background-color: #272822\">\"(?i)(\\\\bfree\\\\s?money\\\\b|\\\\bclick\\\\s?here\\\\b|\\\\bsubscribe\\\\s?now\\\\b|\\\\blimited\\\\s?time\\\\</span> │\n",
       "│ <span style=\"color: #e3e3dd; text-decoration-color: #e3e3dd; background-color: #272822; font-weight: bold\">  </span><span style=\"color: #656660; text-decoration-color: #656660; background-color: #272822\">30 </span><span style=\"color: #f8f8f2; text-decoration-color: #f8f8f2; background-color: #272822\">      </span><span style=\"color: #ff4689; text-decoration-color: #ff4689; background-color: #272822\">\"severity\"</span><span style=\"color: #f8f8f2; text-decoration-color: #f8f8f2; background-color: #272822\">: </span><span style=\"color: #e6db74; text-decoration-color: #e6db74; background-color: #272822\">\"medium\"</span><span style=\"color: #f8f8f2; text-decoration-color: #f8f8f2; background-color: #272822\">,</span><span style=\"background-color: #272822\">                                                                               </span> │\n",
       "│ <span style=\"color: #e3e3dd; text-decoration-color: #e3e3dd; background-color: #272822; font-weight: bold\">  </span><span style=\"color: #656660; text-decoration-color: #656660; background-color: #272822\">31 </span><span style=\"color: #f8f8f2; text-decoration-color: #f8f8f2; background-color: #272822\">      </span><span style=\"color: #ff4689; text-decoration-color: #ff4689; background-color: #272822\">\"rationale\"</span><span style=\"color: #f8f8f2; text-decoration-color: #f8f8f2; background-color: #272822\">: </span><span style=\"color: #e6db74; text-decoration-color: #e6db74; background-color: #272822\">\"Spam and scams degrade user experience, can mislead users, and may facilitate financia</span> │\n",
       "│ <span style=\"color: #e3e3dd; text-decoration-color: #e3e3dd; background-color: #272822; font-weight: bold\">  </span><span style=\"color: #656660; text-decoration-color: #656660; background-color: #272822\">32 </span><span style=\"color: #f8f8f2; text-decoration-color: #f8f8f2; background-color: #272822\">    }</span><span style=\"background-color: #272822\">                                                                                                     </span> │\n",
       "│ <span style=\"color: #e3e3dd; text-decoration-color: #e3e3dd; background-color: #272822; font-weight: bold\">  </span><span style=\"color: #656660; text-decoration-color: #656660; background-color: #272822\">33 </span><span style=\"color: #f8f8f2; text-decoration-color: #f8f8f2; background-color: #272822\">  ],</span><span style=\"background-color: #272822\">                                                                                                      </span> │\n",
       "│ <span style=\"color: #e3e3dd; text-decoration-color: #e3e3dd; background-color: #272822; font-weight: bold\">  </span><span style=\"color: #656660; text-decoration-color: #656660; background-color: #272822\">34 </span><span style=\"color: #f8f8f2; text-decoration-color: #f8f8f2; background-color: #272822\">  </span><span style=\"color: #ff4689; text-decoration-color: #ff4689; background-color: #272822\">\"metadata\"</span><span style=\"color: #f8f8f2; text-decoration-color: #f8f8f2; background-color: #272822\">: {}</span><span style=\"background-color: #272822\">                                                                                          </span> │\n",
       "│ <span style=\"color: #e3e3dd; text-decoration-color: #e3e3dd; background-color: #272822; font-weight: bold\">  </span><span style=\"color: #656660; text-decoration-color: #656660; background-color: #272822\">35 </span><span style=\"color: #f8f8f2; text-decoration-color: #f8f8f2; background-color: #272822\">}</span><span style=\"background-color: #272822\">                                                                                                         </span> │\n",
       "╰─────────────────────────────────────────────────────────────────────────────────────────────────────────────────╯\n",
       "</pre>\n"
      ],
      "text/plain": [
       "╭─────────────────────────────────────────── \u001b[1;32m📄 Generated Policy JSON\u001b[0m ────────────────────────────────────────────╮\n",
       "│ \u001b[1;38;2;227;227;221;48;2;39;40;34m  \u001b[0m\u001b[38;2;101;102;96;48;2;39;40;34m 1 \u001b[0m\u001b[38;2;248;248;242;48;2;39;40;34m{\u001b[0m\u001b[48;2;39;40;34m                                                                                                         \u001b[0m │\n",
       "│ \u001b[1;38;2;227;227;221;48;2;39;40;34m  \u001b[0m\u001b[38;2;101;102;96;48;2;39;40;34m 2 \u001b[0m\u001b[38;2;248;248;242;48;2;39;40;34m  \u001b[0m\u001b[38;2;255;70;137;48;2;39;40;34m\"domain\"\u001b[0m\u001b[38;2;248;248;242;48;2;39;40;34m:\u001b[0m\u001b[38;2;248;248;242;48;2;39;40;34m \u001b[0m\u001b[38;2;230;219;116;48;2;39;40;34m\"content-moderation\"\u001b[0m\u001b[38;2;248;248;242;48;2;39;40;34m,\u001b[0m\u001b[48;2;39;40;34m                                                                         \u001b[0m │\n",
       "│ \u001b[1;38;2;227;227;221;48;2;39;40;34m  \u001b[0m\u001b[38;2;101;102;96;48;2;39;40;34m 3 \u001b[0m\u001b[38;2;248;248;242;48;2;39;40;34m  \u001b[0m\u001b[38;2;255;70;137;48;2;39;40;34m\"version\"\u001b[0m\u001b[38;2;248;248;242;48;2;39;40;34m:\u001b[0m\u001b[38;2;248;248;242;48;2;39;40;34m \u001b[0m\u001b[38;2;230;219;116;48;2;39;40;34m\"1.0\"\u001b[0m\u001b[38;2;248;248;242;48;2;39;40;34m,\u001b[0m\u001b[48;2;39;40;34m                                                                                       \u001b[0m │\n",
       "│ \u001b[1;38;2;227;227;221;48;2;39;40;34m  \u001b[0m\u001b[38;2;101;102;96;48;2;39;40;34m 4 \u001b[0m\u001b[38;2;248;248;242;48;2;39;40;34m  \u001b[0m\u001b[38;2;255;70;137;48;2;39;40;34m\"rules\"\u001b[0m\u001b[38;2;248;248;242;48;2;39;40;34m:\u001b[0m\u001b[38;2;248;248;242;48;2;39;40;34m \u001b[0m\u001b[38;2;248;248;242;48;2;39;40;34m[\u001b[0m\u001b[48;2;39;40;34m                                                                                              \u001b[0m │\n",
       "│ \u001b[1;38;2;227;227;221;48;2;39;40;34m  \u001b[0m\u001b[38;2;101;102;96;48;2;39;40;34m 5 \u001b[0m\u001b[38;2;248;248;242;48;2;39;40;34m    \u001b[0m\u001b[38;2;248;248;242;48;2;39;40;34m{\u001b[0m\u001b[48;2;39;40;34m                                                                                                     \u001b[0m │\n",
       "│ \u001b[1;38;2;227;227;221;48;2;39;40;34m  \u001b[0m\u001b[38;2;101;102;96;48;2;39;40;34m 6 \u001b[0m\u001b[38;2;248;248;242;48;2;39;40;34m      \u001b[0m\u001b[38;2;255;70;137;48;2;39;40;34m\"id\"\u001b[0m\u001b[38;2;248;248;242;48;2;39;40;34m:\u001b[0m\u001b[38;2;248;248;242;48;2;39;40;34m \u001b[0m\u001b[38;2;230;219;116;48;2;39;40;34m\"rule_001\"\u001b[0m\u001b[38;2;248;248;242;48;2;39;40;34m,\u001b[0m\u001b[48;2;39;40;34m                                                                                   \u001b[0m │\n",
       "│ \u001b[1;38;2;227;227;221;48;2;39;40;34m  \u001b[0m\u001b[38;2;101;102;96;48;2;39;40;34m 7 \u001b[0m\u001b[38;2;248;248;242;48;2;39;40;34m      \u001b[0m\u001b[38;2;255;70;137;48;2;39;40;34m\"description\"\u001b[0m\u001b[38;2;248;248;242;48;2;39;40;34m:\u001b[0m\u001b[38;2;248;248;242;48;2;39;40;34m \u001b[0m\u001b[38;2;230;219;116;48;2;39;40;34m\"Detect hate speech targeting protected groups\"\u001b[0m\u001b[38;2;248;248;242;48;2;39;40;34m,\u001b[0m\u001b[48;2;39;40;34m                                     \u001b[0m │\n",
       "│ \u001b[1;38;2;227;227;221;48;2;39;40;34m  \u001b[0m\u001b[38;2;101;102;96;48;2;39;40;34m 8 \u001b[0m\u001b[38;2;248;248;242;48;2;39;40;34m      \u001b[0m\u001b[38;2;255;70;137;48;2;39;40;34m\"pattern\"\u001b[0m\u001b[38;2;248;248;242;48;2;39;40;34m:\u001b[0m\u001b[38;2;248;248;242;48;2;39;40;34m \u001b[0m\u001b[38;2;230;219;116;48;2;39;40;34m\"(?i)\\\\b(nigger|nigga|faggot|kike|chink|spic|gay\\\\s?sex|\\\\bwhite\\\\s?supremacist\\\\b|anti\\\\\u001b[0m │\n",
       "│ \u001b[1;38;2;227;227;221;48;2;39;40;34m  \u001b[0m\u001b[38;2;101;102;96;48;2;39;40;34m 9 \u001b[0m\u001b[38;2;248;248;242;48;2;39;40;34m      \u001b[0m\u001b[38;2;255;70;137;48;2;39;40;34m\"severity\"\u001b[0m\u001b[38;2;248;248;242;48;2;39;40;34m:\u001b[0m\u001b[38;2;248;248;242;48;2;39;40;34m \u001b[0m\u001b[38;2;230;219;116;48;2;39;40;34m\"high\"\u001b[0m\u001b[38;2;248;248;242;48;2;39;40;34m,\u001b[0m\u001b[48;2;39;40;34m                                                                                 \u001b[0m │\n",
       "│ \u001b[1;38;2;227;227;221;48;2;39;40;34m  \u001b[0m\u001b[38;2;101;102;96;48;2;39;40;34m10 \u001b[0m\u001b[38;2;248;248;242;48;2;39;40;34m      \u001b[0m\u001b[38;2;255;70;137;48;2;39;40;34m\"rationale\"\u001b[0m\u001b[38;2;248;248;242;48;2;39;40;34m:\u001b[0m\u001b[38;2;248;248;242;48;2;39;40;34m \u001b[0m\u001b[38;2;230;219;116;48;2;39;40;34m\"Hate speech directly attacks individuals or groups based on protected characteristics,\u001b[0m │\n",
       "│ \u001b[1;38;2;227;227;221;48;2;39;40;34m  \u001b[0m\u001b[38;2;101;102;96;48;2;39;40;34m11 \u001b[0m\u001b[38;2;248;248;242;48;2;39;40;34m    \u001b[0m\u001b[38;2;248;248;242;48;2;39;40;34m},\u001b[0m\u001b[48;2;39;40;34m                                                                                                    \u001b[0m │\n",
       "│ \u001b[1;38;2;227;227;221;48;2;39;40;34m  \u001b[0m\u001b[38;2;101;102;96;48;2;39;40;34m12 \u001b[0m\u001b[38;2;248;248;242;48;2;39;40;34m    \u001b[0m\u001b[38;2;248;248;242;48;2;39;40;34m{\u001b[0m\u001b[48;2;39;40;34m                                                                                                     \u001b[0m │\n",
       "│ \u001b[1;38;2;227;227;221;48;2;39;40;34m  \u001b[0m\u001b[38;2;101;102;96;48;2;39;40;34m13 \u001b[0m\u001b[38;2;248;248;242;48;2;39;40;34m      \u001b[0m\u001b[38;2;255;70;137;48;2;39;40;34m\"id\"\u001b[0m\u001b[38;2;248;248;242;48;2;39;40;34m:\u001b[0m\u001b[38;2;248;248;242;48;2;39;40;34m \u001b[0m\u001b[38;2;230;219;116;48;2;39;40;34m\"rule_002\"\u001b[0m\u001b[38;2;248;248;242;48;2;39;40;34m,\u001b[0m\u001b[48;2;39;40;34m                                                                                   \u001b[0m │\n",
       "│ \u001b[1;38;2;227;227;221;48;2;39;40;34m  \u001b[0m\u001b[38;2;101;102;96;48;2;39;40;34m14 \u001b[0m\u001b[38;2;248;248;242;48;2;39;40;34m      \u001b[0m\u001b[38;2;255;70;137;48;2;39;40;34m\"description\"\u001b[0m\u001b[38;2;248;248;242;48;2;39;40;34m:\u001b[0m\u001b[38;2;248;248;242;48;2;39;40;34m \u001b[0m\u001b[38;2;230;219;116;48;2;39;40;34m\"Detect harassment, threats, doxxing, and stalking language\"\u001b[0m\u001b[38;2;248;248;242;48;2;39;40;34m,\u001b[0m\u001b[48;2;39;40;34m                        \u001b[0m │\n",
       "│ \u001b[1;38;2;227;227;221;48;2;39;40;34m  \u001b[0m\u001b[38;2;101;102;96;48;2;39;40;34m15 \u001b[0m\u001b[38;2;248;248;242;48;2;39;40;34m      \u001b[0m\u001b[38;2;255;70;137;48;2;39;40;34m\"pattern\"\u001b[0m\u001b[38;2;248;248;242;48;2;39;40;34m:\u001b[0m\u001b[38;2;248;248;242;48;2;39;40;34m \u001b[0m\u001b[38;2;230;219;116;48;2;39;40;34m\"(?i)\\\\b(kill\\\\s?you|murder|rape|threat|dox|doxing|stalk|follow\\\\s?me|\\\\b\\\\w+\\\\s?hate\\\\b)\u001b[0m │\n",
       "│ \u001b[1;38;2;227;227;221;48;2;39;40;34m  \u001b[0m\u001b[38;2;101;102;96;48;2;39;40;34m16 \u001b[0m\u001b[38;2;248;248;242;48;2;39;40;34m      \u001b[0m\u001b[38;2;255;70;137;48;2;39;40;34m\"severity\"\u001b[0m\u001b[38;2;248;248;242;48;2;39;40;34m:\u001b[0m\u001b[38;2;248;248;242;48;2;39;40;34m \u001b[0m\u001b[38;2;230;219;116;48;2;39;40;34m\"high\"\u001b[0m\u001b[38;2;248;248;242;48;2;39;40;34m,\u001b[0m\u001b[48;2;39;40;34m                                                                                 \u001b[0m │\n",
       "│ \u001b[1;38;2;227;227;221;48;2;39;40;34m  \u001b[0m\u001b[38;2;101;102;96;48;2;39;40;34m17 \u001b[0m\u001b[38;2;248;248;242;48;2;39;40;34m      \u001b[0m\u001b[38;2;255;70;137;48;2;39;40;34m\"rationale\"\u001b[0m\u001b[38;2;248;248;242;48;2;39;40;34m:\u001b[0m\u001b[38;2;248;248;242;48;2;39;40;34m \u001b[0m\u001b[38;2;230;219;116;48;2;39;40;34m\"Harassing content can lead to intimidation, fear, or physical danger for the target.\"\u001b[0m\u001b[48;2;39;40;34m \u001b[0m │\n",
       "│ \u001b[1;38;2;227;227;221;48;2;39;40;34m  \u001b[0m\u001b[38;2;101;102;96;48;2;39;40;34m18 \u001b[0m\u001b[38;2;248;248;242;48;2;39;40;34m    \u001b[0m\u001b[38;2;248;248;242;48;2;39;40;34m},\u001b[0m\u001b[48;2;39;40;34m                                                                                                    \u001b[0m │\n",
       "│ \u001b[1;38;2;227;227;221;48;2;39;40;34m  \u001b[0m\u001b[38;2;101;102;96;48;2;39;40;34m19 \u001b[0m\u001b[38;2;248;248;242;48;2;39;40;34m    \u001b[0m\u001b[38;2;248;248;242;48;2;39;40;34m{\u001b[0m\u001b[48;2;39;40;34m                                                                                                     \u001b[0m │\n",
       "│ \u001b[1;38;2;227;227;221;48;2;39;40;34m  \u001b[0m\u001b[38;2;101;102;96;48;2;39;40;34m20 \u001b[0m\u001b[38;2;248;248;242;48;2;39;40;34m      \u001b[0m\u001b[38;2;255;70;137;48;2;39;40;34m\"id\"\u001b[0m\u001b[38;2;248;248;242;48;2;39;40;34m:\u001b[0m\u001b[38;2;248;248;242;48;2;39;40;34m \u001b[0m\u001b[38;2;230;219;116;48;2;39;40;34m\"rule_003\"\u001b[0m\u001b[38;2;248;248;242;48;2;39;40;34m,\u001b[0m\u001b[48;2;39;40;34m                                                                                   \u001b[0m │\n",
       "│ \u001b[1;38;2;227;227;221;48;2;39;40;34m  \u001b[0m\u001b[38;2;101;102;96;48;2;39;40;34m21 \u001b[0m\u001b[38;2;248;248;242;48;2;39;40;34m      \u001b[0m\u001b[38;2;255;70;137;48;2;39;40;34m\"description\"\u001b[0m\u001b[38;2;248;248;242;48;2;39;40;34m:\u001b[0m\u001b[38;2;248;248;242;48;2;39;40;34m \u001b[0m\u001b[38;2;230;219;116;48;2;39;40;34m\"Detect explicit pornographic or graphic violent content, including sexualization of \u001b[0m │\n",
       "│ \u001b[1;38;2;227;227;221;48;2;39;40;34m  \u001b[0m\u001b[38;2;101;102;96;48;2;39;40;34m22 \u001b[0m\u001b[38;2;248;248;242;48;2;39;40;34m      \u001b[0m\u001b[38;2;255;70;137;48;2;39;40;34m\"pattern\"\u001b[0m\u001b[38;2;248;248;242;48;2;39;40;34m:\u001b[0m\u001b[38;2;248;248;242;48;2;39;40;34m \u001b[0m\u001b[38;2;230;219;116;48;2;39;40;34m\"(?i)\\\\b(porn|xxx|sex|nude|gore|blood|violence|rape|child\\\\s?porn|sexual\\\\s?content\\\\s?mi\u001b[0m │\n",
       "│ \u001b[1;38;2;227;227;221;48;2;39;40;34m  \u001b[0m\u001b[38;2;101;102;96;48;2;39;40;34m23 \u001b[0m\u001b[38;2;248;248;242;48;2;39;40;34m      \u001b[0m\u001b[38;2;255;70;137;48;2;39;40;34m\"severity\"\u001b[0m\u001b[38;2;248;248;242;48;2;39;40;34m:\u001b[0m\u001b[38;2;248;248;242;48;2;39;40;34m \u001b[0m\u001b[38;2;230;219;116;48;2;39;40;34m\"high\"\u001b[0m\u001b[38;2;248;248;242;48;2;39;40;34m,\u001b[0m\u001b[48;2;39;40;34m                                                                                 \u001b[0m │\n",
       "│ \u001b[1;38;2;227;227;221;48;2;39;40;34m  \u001b[0m\u001b[38;2;101;102;96;48;2;39;40;34m24 \u001b[0m\u001b[38;2;248;248;242;48;2;39;40;34m      \u001b[0m\u001b[38;2;255;70;137;48;2;39;40;34m\"rationale\"\u001b[0m\u001b[38;2;248;248;242;48;2;39;40;34m:\u001b[0m\u001b[38;2;248;248;242;48;2;39;40;34m \u001b[0m\u001b[38;2;230;219;116;48;2;39;40;34m\"Explicit content involving minors or graphic violence is illegal and harmful; it viola\u001b[0m │\n",
       "│ \u001b[1;38;2;227;227;221;48;2;39;40;34m  \u001b[0m\u001b[38;2;101;102;96;48;2;39;40;34m25 \u001b[0m\u001b[38;2;248;248;242;48;2;39;40;34m    \u001b[0m\u001b[38;2;248;248;242;48;2;39;40;34m},\u001b[0m\u001b[48;2;39;40;34m                                                                                                    \u001b[0m │\n",
       "│ \u001b[1;38;2;227;227;221;48;2;39;40;34m  \u001b[0m\u001b[38;2;101;102;96;48;2;39;40;34m26 \u001b[0m\u001b[38;2;248;248;242;48;2;39;40;34m    \u001b[0m\u001b[38;2;248;248;242;48;2;39;40;34m{\u001b[0m\u001b[48;2;39;40;34m                                                                                                     \u001b[0m │\n",
       "│ \u001b[1;38;2;227;227;221;48;2;39;40;34m  \u001b[0m\u001b[38;2;101;102;96;48;2;39;40;34m27 \u001b[0m\u001b[38;2;248;248;242;48;2;39;40;34m      \u001b[0m\u001b[38;2;255;70;137;48;2;39;40;34m\"id\"\u001b[0m\u001b[38;2;248;248;242;48;2;39;40;34m:\u001b[0m\u001b[38;2;248;248;242;48;2;39;40;34m \u001b[0m\u001b[38;2;230;219;116;48;2;39;40;34m\"rule_004\"\u001b[0m\u001b[38;2;248;248;242;48;2;39;40;34m,\u001b[0m\u001b[48;2;39;40;34m                                                                                   \u001b[0m │\n",
       "│ \u001b[1;38;2;227;227;221;48;2;39;40;34m  \u001b[0m\u001b[38;2;101;102;96;48;2;39;40;34m28 \u001b[0m\u001b[38;2;248;248;242;48;2;39;40;34m      \u001b[0m\u001b[38;2;255;70;137;48;2;39;40;34m\"description\"\u001b[0m\u001b[38;2;248;248;242;48;2;39;40;34m:\u001b[0m\u001b[38;2;248;248;242;48;2;39;40;34m \u001b[0m\u001b[38;2;230;219;116;48;2;39;40;34m\"Detect spam, phishing, scams, and repeated identical posts\"\u001b[0m\u001b[38;2;248;248;242;48;2;39;40;34m,\u001b[0m\u001b[48;2;39;40;34m                        \u001b[0m │\n",
       "│ \u001b[1;38;2;227;227;221;48;2;39;40;34m  \u001b[0m\u001b[38;2;101;102;96;48;2;39;40;34m29 \u001b[0m\u001b[38;2;248;248;242;48;2;39;40;34m      \u001b[0m\u001b[38;2;255;70;137;48;2;39;40;34m\"pattern\"\u001b[0m\u001b[38;2;248;248;242;48;2;39;40;34m:\u001b[0m\u001b[38;2;248;248;242;48;2;39;40;34m \u001b[0m\u001b[38;2;230;219;116;48;2;39;40;34m\"(?i)(\\\\bfree\\\\s?money\\\\b|\\\\bclick\\\\s?here\\\\b|\\\\bsubscribe\\\\s?now\\\\b|\\\\blimited\\\\s?time\\\\\u001b[0m │\n",
       "│ \u001b[1;38;2;227;227;221;48;2;39;40;34m  \u001b[0m\u001b[38;2;101;102;96;48;2;39;40;34m30 \u001b[0m\u001b[38;2;248;248;242;48;2;39;40;34m      \u001b[0m\u001b[38;2;255;70;137;48;2;39;40;34m\"severity\"\u001b[0m\u001b[38;2;248;248;242;48;2;39;40;34m:\u001b[0m\u001b[38;2;248;248;242;48;2;39;40;34m \u001b[0m\u001b[38;2;230;219;116;48;2;39;40;34m\"medium\"\u001b[0m\u001b[38;2;248;248;242;48;2;39;40;34m,\u001b[0m\u001b[48;2;39;40;34m                                                                               \u001b[0m │\n",
       "│ \u001b[1;38;2;227;227;221;48;2;39;40;34m  \u001b[0m\u001b[38;2;101;102;96;48;2;39;40;34m31 \u001b[0m\u001b[38;2;248;248;242;48;2;39;40;34m      \u001b[0m\u001b[38;2;255;70;137;48;2;39;40;34m\"rationale\"\u001b[0m\u001b[38;2;248;248;242;48;2;39;40;34m:\u001b[0m\u001b[38;2;248;248;242;48;2;39;40;34m \u001b[0m\u001b[38;2;230;219;116;48;2;39;40;34m\"Spam and scams degrade user experience, can mislead users, and may facilitate financia\u001b[0m │\n",
       "│ \u001b[1;38;2;227;227;221;48;2;39;40;34m  \u001b[0m\u001b[38;2;101;102;96;48;2;39;40;34m32 \u001b[0m\u001b[38;2;248;248;242;48;2;39;40;34m    \u001b[0m\u001b[38;2;248;248;242;48;2;39;40;34m}\u001b[0m\u001b[48;2;39;40;34m                                                                                                     \u001b[0m │\n",
       "│ \u001b[1;38;2;227;227;221;48;2;39;40;34m  \u001b[0m\u001b[38;2;101;102;96;48;2;39;40;34m33 \u001b[0m\u001b[38;2;248;248;242;48;2;39;40;34m  \u001b[0m\u001b[38;2;248;248;242;48;2;39;40;34m],\u001b[0m\u001b[48;2;39;40;34m                                                                                                      \u001b[0m │\n",
       "│ \u001b[1;38;2;227;227;221;48;2;39;40;34m  \u001b[0m\u001b[38;2;101;102;96;48;2;39;40;34m34 \u001b[0m\u001b[38;2;248;248;242;48;2;39;40;34m  \u001b[0m\u001b[38;2;255;70;137;48;2;39;40;34m\"metadata\"\u001b[0m\u001b[38;2;248;248;242;48;2;39;40;34m:\u001b[0m\u001b[38;2;248;248;242;48;2;39;40;34m \u001b[0m\u001b[38;2;248;248;242;48;2;39;40;34m{}\u001b[0m\u001b[48;2;39;40;34m                                                                                          \u001b[0m │\n",
       "│ \u001b[1;38;2;227;227;221;48;2;39;40;34m  \u001b[0m\u001b[38;2;101;102;96;48;2;39;40;34m35 \u001b[0m\u001b[38;2;248;248;242;48;2;39;40;34m}\u001b[0m\u001b[48;2;39;40;34m                                                                                                         \u001b[0m │\n",
       "╰─────────────────────────────────────────────────────────────────────────────────────────────────────────────────╯\n"
      ]
     },
     "metadata": {},
     "output_type": "display_data"
    }
   ],
   "source": [
    "# Display the complete policy JSON\n",
    "if 'policy_json' in locals() and policy_json:\n",
    "    # Format JSON for display\n",
    "    policy_str = json.dumps(policy_json, indent=2)\n",
    "    syntax = Syntax(policy_str, \"json\", theme=\"monokai\", line_numbers=True)\n",
    "    \n",
    "    console.print(Panel(\n",
    "        syntax,\n",
    "        title=\"[bold green]📄 Generated Policy JSON[/bold green]\",\n",
    "        expand=False\n",
    "    ))\n",
    "else:\n",
    "    console.print(\"[yellow]No policy JSON available from previous step[/yellow]\")"
   ]
  },
  {
   "cell_type": "markdown",
   "id": "316f4466",
   "metadata": {},
   "source": [
    "## 🧪 Step 5: Create Test Cases\n",
    "\n",
    "Now let's create test cases to validate our policy:"
   ]
  },
  {
   "cell_type": "code",
   "execution_count": 23,
   "id": "24ca227d",
   "metadata": {},
   "outputs": [
    {
     "data": {
      "text/html": [
       "<pre style=\"white-space:pre;overflow-x:auto;line-height:normal;font-family:Menlo,'DejaVu Sans Mono',consolas,'Courier New',monospace\"><span style=\"color: #008000; text-decoration-color: #008000\">✅ Created </span><span style=\"color: #008000; text-decoration-color: #008000; font-weight: bold\">4</span><span style=\"color: #008000; text-decoration-color: #008000\"> test cases covering different violation types</span>\n",
       "</pre>\n"
      ],
      "text/plain": [
       "\u001b[32m✅ Created \u001b[0m\u001b[1;32m4\u001b[0m\u001b[32m test cases covering different violation types\u001b[0m\n"
      ]
     },
     "metadata": {},
     "output_type": "display_data"
    },
    {
     "data": {
      "text/html": [
       "<pre style=\"white-space:pre;overflow-x:auto;line-height:normal;font-family:Menlo,'DejaVu Sans Mono',consolas,'Courier New',monospace\"><span style=\"font-style: italic\">                                      </span><span style=\"color: #008080; text-decoration-color: #008080; font-weight: bold; font-style: italic\">📋 Test Cases</span><span style=\"font-style: italic\">                                       </span>\n",
       "┏━━━━━━━━━━━━━━━━━┳━━━━━━━━━━━━━━━━━━━━━━━━━━━━━━━━━━━━━━━━━━━━━┳━━━━━━━━━━┳━━━━━━━━━━━━━┓\n",
       "┃<span style=\"font-weight: bold\"> ID              </span>┃<span style=\"font-weight: bold\"> Text                                        </span>┃<span style=\"font-weight: bold\"> Expected </span>┃<span style=\"font-weight: bold\"> Category    </span>┃\n",
       "┡━━━━━━━━━━━━━━━━━╇━━━━━━━━━━━━━━━━━━━━━━━━━━━━━━━━━━━━━━━━━━━━━╇━━━━━━━━━━╇━━━━━━━━━━━━━┩\n",
       "│<span style=\"color: #008080; text-decoration-color: #008080\"> hate_speech_1   </span>│<span style=\"color: #c0c0c0; text-decoration-color: #c0c0c0\"> Those black people, I hate them all         </span>│<span style=\"color: #808000; text-decoration-color: #808000\"> rule_001 </span>│<span style=\"color: #008000; text-decoration-color: #008000\"> hate_speech </span>│\n",
       "│<span style=\"color: #008080; text-decoration-color: #008080\"> harassment_1    </span>│<span style=\"color: #c0c0c0; text-decoration-color: #c0c0c0\"> You're stupid @user stop posting here no... </span>│<span style=\"color: #808000; text-decoration-color: #808000\"> rule_002 </span>│<span style=\"color: #008000; text-decoration-color: #008000\"> harassment  </span>│\n",
       "│<span style=\"color: #008080; text-decoration-color: #008080\"> clean_content_1 </span>│<span style=\"color: #c0c0c0; text-decoration-color: #c0c0c0\"> I love this new feature, great job team!    </span>│<span style=\"color: #808000; text-decoration-color: #808000\"> None     </span>│<span style=\"color: #008000; text-decoration-color: #008000\"> clean       </span>│\n",
       "│<span style=\"color: #008080; text-decoration-color: #008080\"> spam_1          </span>│<span style=\"color: #c0c0c0; text-decoration-color: #c0c0c0\"> Buy cheap viagra now! Click here: http:/... </span>│<span style=\"color: #808000; text-decoration-color: #808000\"> rule_004 </span>│<span style=\"color: #008000; text-decoration-color: #008000\"> spam        </span>│\n",
       "└─────────────────┴─────────────────────────────────────────────┴──────────┴─────────────┘\n",
       "</pre>\n"
      ],
      "text/plain": [
       "\u001b[3m                                      \u001b[0m\u001b[1;3;36m📋 Test Cases\u001b[0m\u001b[3m                                       \u001b[0m\n",
       "┏━━━━━━━━━━━━━━━━━┳━━━━━━━━━━━━━━━━━━━━━━━━━━━━━━━━━━━━━━━━━━━━━┳━━━━━━━━━━┳━━━━━━━━━━━━━┓\n",
       "┃\u001b[1m \u001b[0m\u001b[1mID             \u001b[0m\u001b[1m \u001b[0m┃\u001b[1m \u001b[0m\u001b[1mText                                       \u001b[0m\u001b[1m \u001b[0m┃\u001b[1m \u001b[0m\u001b[1mExpected\u001b[0m\u001b[1m \u001b[0m┃\u001b[1m \u001b[0m\u001b[1mCategory   \u001b[0m\u001b[1m \u001b[0m┃\n",
       "┡━━━━━━━━━━━━━━━━━╇━━━━━━━━━━━━━━━━━━━━━━━━━━━━━━━━━━━━━━━━━━━━━╇━━━━━━━━━━╇━━━━━━━━━━━━━┩\n",
       "│\u001b[36m \u001b[0m\u001b[36mhate_speech_1  \u001b[0m\u001b[36m \u001b[0m│\u001b[37m \u001b[0m\u001b[37mThose black people, I hate them all        \u001b[0m\u001b[37m \u001b[0m│\u001b[33m \u001b[0m\u001b[33mrule_001\u001b[0m\u001b[33m \u001b[0m│\u001b[32m \u001b[0m\u001b[32mhate_speech\u001b[0m\u001b[32m \u001b[0m│\n",
       "│\u001b[36m \u001b[0m\u001b[36mharassment_1   \u001b[0m\u001b[36m \u001b[0m│\u001b[37m \u001b[0m\u001b[37mYou're stupid @user stop posting here no...\u001b[0m\u001b[37m \u001b[0m│\u001b[33m \u001b[0m\u001b[33mrule_002\u001b[0m\u001b[33m \u001b[0m│\u001b[32m \u001b[0m\u001b[32mharassment \u001b[0m\u001b[32m \u001b[0m│\n",
       "│\u001b[36m \u001b[0m\u001b[36mclean_content_1\u001b[0m\u001b[36m \u001b[0m│\u001b[37m \u001b[0m\u001b[37mI love this new feature, great job team!   \u001b[0m\u001b[37m \u001b[0m│\u001b[33m \u001b[0m\u001b[33mNone    \u001b[0m\u001b[33m \u001b[0m│\u001b[32m \u001b[0m\u001b[32mclean      \u001b[0m\u001b[32m \u001b[0m│\n",
       "│\u001b[36m \u001b[0m\u001b[36mspam_1         \u001b[0m\u001b[36m \u001b[0m│\u001b[37m \u001b[0m\u001b[37mBuy cheap viagra now! Click here: http:/...\u001b[0m\u001b[37m \u001b[0m│\u001b[33m \u001b[0m\u001b[33mrule_004\u001b[0m\u001b[33m \u001b[0m│\u001b[32m \u001b[0m\u001b[32mspam       \u001b[0m\u001b[32m \u001b[0m│\n",
       "└─────────────────┴─────────────────────────────────────────────┴──────────┴─────────────┘\n"
      ]
     },
     "metadata": {},
     "output_type": "display_data"
    }
   ],
   "source": [
    "# Create comprehensive test cases\n",
    "test_cases = {\n",
    "    \"test_cases\": [\n",
    "        {\n",
    "            \"id\": \"hate_speech_1\",\n",
    "            \"text\": \"Those black people, I hate them all\",\n",
    "            \"expected_violations\": [\"rule_001\"],  # Assuming rule_001 is hate speech\n",
    "            \"description\": \"Clear hate speech targeting protected group\",\n",
    "            \"category\": \"hate_speech\"\n",
    "        },\n",
    "        {\n",
    "            \"id\": \"harassment_1\",\n",
    "            \"text\": \"You're stupid @user stop posting here nobody likes you\",\n",
    "            \"expected_violations\": [\"rule_002\"],  # Assuming rule_002 is harassment\n",
    "            \"description\": \"Personal attack and harassment\",\n",
    "            \"category\": \"harassment\"\n",
    "        },\n",
    "        {\n",
    "            \"id\": \"clean_content_1\",\n",
    "            \"text\": \"I love this new feature, great job team!\",\n",
    "            \"expected_violations\": [],\n",
    "            \"description\": \"Positive, clean content\",\n",
    "            \"category\": \"clean\"\n",
    "        },\n",
    "        {\n",
    "            \"id\": \"spam_1\",\n",
    "            \"text\": \"Buy cheap viagra now! Click here: http://spam-site.com\",\n",
    "            \"expected_violations\": [\"rule_004\"],  # Assuming rule_004 is spam\n",
    "            \"description\": \"Spam with promotional link\",\n",
    "            \"category\": \"spam\"\n",
    "        }\n",
    "    ]\n",
    "}\n",
    "\n",
    "console.print(\"[green]✅ Created 4 test cases covering different violation types[/green]\")\n",
    "\n",
    "# Display test cases\n",
    "test_table = Table(title=\"[bold cyan]📋 Test Cases[/bold cyan]\")\n",
    "test_table.add_column(\"ID\", style=\"cyan\")\n",
    "test_table.add_column(\"Text\", style=\"white\")\n",
    "test_table.add_column(\"Expected\", style=\"yellow\")\n",
    "test_table.add_column(\"Category\", style=\"green\")\n",
    "\n",
    "for case in test_cases[\"test_cases\"]:\n",
    "    text_preview = case[\"text\"][:40] + \"...\" if len(case[\"text\"]) > 40 else case[\"text\"]\n",
    "    expected = \", \".join(case[\"expected_violations\"]) if case[\"expected_violations\"] else \"None\"\n",
    "    test_table.add_row(\n",
    "        case[\"id\"],\n",
    "        text_preview,\n",
    "        expected,\n",
    "        case[\"category\"]\n",
    "    )\n",
    "\n",
    "console.print(test_table)"
   ]
  },
  {
   "cell_type": "markdown",
   "id": "2b8a479e",
   "metadata": {},
   "source": [
    "## ⚖️ Step 6: Run Policy Validation Tests\n",
    "\n",
    "Now let's test our generated policy against the test cases:"
   ]
  },
  {
   "cell_type": "code",
   "execution_count": 25,
   "id": "dd83d468",
   "metadata": {},
   "outputs": [
    {
     "data": {
      "text/html": [
       "<pre style=\"white-space:pre;overflow-x:auto;line-height:normal;font-family:Menlo,'DejaVu Sans Mono',consolas,'Courier New',monospace\"><span style=\"color: #808000; text-decoration-color: #808000\">🧪 Running policy validation tests...</span>\n",
       "</pre>\n"
      ],
      "text/plain": [
       "\u001b[33m🧪 Running policy validation tests\u001b[0m\u001b[33m...\u001b[0m\n"
      ]
     },
     "metadata": {},
     "output_type": "display_data"
    },
    {
     "data": {
      "text/html": [
       "<pre style=\"white-space:pre;overflow-x:auto;line-height:normal;font-family:Menlo,'DejaVu Sans Mono',consolas,'Courier New',monospace\"><span style=\"color: #808000; text-decoration-color: #808000\">⚠️ Invalid regex in rule rule_004: cannot refer to an open group at position </span><span style=\"color: #008080; text-decoration-color: #008080; font-weight: bold\">118</span>\n",
       "</pre>\n"
      ],
      "text/plain": [
       "\u001b[33m⚠️ Invalid regex in rule rule_004: cannot refer to an open group at position \u001b[0m\u001b[1;36m118\u001b[0m\n"
      ]
     },
     "metadata": {},
     "output_type": "display_data"
    },
    {
     "data": {
      "text/html": [
       "<pre style=\"white-space:pre;overflow-x:auto;line-height:normal;font-family:Menlo,'DejaVu Sans Mono',consolas,'Courier New',monospace\"><span style=\"color: #808000; text-decoration-color: #808000\">⚠️ Invalid regex in rule rule_004: cannot refer to an open group at position </span><span style=\"color: #008080; text-decoration-color: #008080; font-weight: bold\">118</span>\n",
       "</pre>\n"
      ],
      "text/plain": [
       "\u001b[33m⚠️ Invalid regex in rule rule_004: cannot refer to an open group at position \u001b[0m\u001b[1;36m118\u001b[0m\n"
      ]
     },
     "metadata": {},
     "output_type": "display_data"
    },
    {
     "data": {
      "text/html": [
       "<pre style=\"white-space:pre;overflow-x:auto;line-height:normal;font-family:Menlo,'DejaVu Sans Mono',consolas,'Courier New',monospace\"><span style=\"color: #808000; text-decoration-color: #808000\">⚠️ Invalid regex in rule rule_004: cannot refer to an open group at position </span><span style=\"color: #008080; text-decoration-color: #008080; font-weight: bold\">118</span>\n",
       "</pre>\n"
      ],
      "text/plain": [
       "\u001b[33m⚠️ Invalid regex in rule rule_004: cannot refer to an open group at position \u001b[0m\u001b[1;36m118\u001b[0m\n"
      ]
     },
     "metadata": {},
     "output_type": "display_data"
    },
    {
     "data": {
      "text/html": [
       "<pre style=\"white-space:pre;overflow-x:auto;line-height:normal;font-family:Menlo,'DejaVu Sans Mono',consolas,'Courier New',monospace\"><span style=\"color: #808000; text-decoration-color: #808000\">⚠️ Invalid regex in rule rule_004: cannot refer to an open group at position </span><span style=\"color: #008080; text-decoration-color: #008080; font-weight: bold\">118</span>\n",
       "</pre>\n"
      ],
      "text/plain": [
       "\u001b[33m⚠️ Invalid regex in rule rule_004: cannot refer to an open group at position \u001b[0m\u001b[1;36m118\u001b[0m\n"
      ]
     },
     "metadata": {},
     "output_type": "display_data"
    },
    {
     "data": {
      "text/html": [
       "<pre style=\"white-space:pre;overflow-x:auto;line-height:normal;font-family:Menlo,'DejaVu Sans Mono',consolas,'Courier New',monospace\"><span style=\"color: #008000; text-decoration-color: #008000; font-weight: bold\">✅ Test execution complete!</span>\n",
       "</pre>\n"
      ],
      "text/plain": [
       "\u001b[1;32m✅ Test execution complete!\u001b[0m\n"
      ]
     },
     "metadata": {},
     "output_type": "display_data"
    },
    {
     "data": {
      "text/html": [
       "<pre style=\"white-space:pre;overflow-x:auto;line-height:normal;font-family:Menlo,'DejaVu Sans Mono',consolas,'Courier New',monospace\"><span style=\"color: #008080; text-decoration-color: #008080\">📊 Tests run: </span><span style=\"color: #008080; text-decoration-color: #008080; font-weight: bold\">4</span>\n",
       "</pre>\n"
      ],
      "text/plain": [
       "\u001b[36m📊 Tests run: \u001b[0m\u001b[1;36m4\u001b[0m\n"
      ]
     },
     "metadata": {},
     "output_type": "display_data"
    },
    {
     "data": {
      "text/html": [
       "<pre style=\"white-space:pre;overflow-x:auto;line-height:normal;font-family:Menlo,'DejaVu Sans Mono',consolas,'Courier New',monospace\"><span style=\"color: #008000; text-decoration-color: #008000\">✅ Passed: </span><span style=\"color: #008000; text-decoration-color: #008000; font-weight: bold\">1</span><span style=\"color: #008000; text-decoration-color: #008000\"> </span><span style=\"color: #008000; text-decoration-color: #008000; font-weight: bold\">(</span><span style=\"color: #008000; text-decoration-color: #008000; font-weight: bold\">25.0</span><span style=\"color: #008000; text-decoration-color: #008000\">%</span><span style=\"color: #008000; text-decoration-color: #008000; font-weight: bold\">)</span>\n",
       "</pre>\n"
      ],
      "text/plain": [
       "\u001b[32m✅ Passed: \u001b[0m\u001b[1;32m1\u001b[0m\u001b[32m \u001b[0m\u001b[1;32m(\u001b[0m\u001b[1;32m25.0\u001b[0m\u001b[32m%\u001b[0m\u001b[1;32m)\u001b[0m\n"
      ]
     },
     "metadata": {},
     "output_type": "display_data"
    },
    {
     "data": {
      "text/html": [
       "<pre style=\"white-space:pre;overflow-x:auto;line-height:normal;font-family:Menlo,'DejaVu Sans Mono',consolas,'Courier New',monospace\"><span style=\"color: #800000; text-decoration-color: #800000\">❌ Failed: </span><span style=\"color: #800000; text-decoration-color: #800000; font-weight: bold\">3</span>\n",
       "</pre>\n"
      ],
      "text/plain": [
       "\u001b[31m❌ Failed: \u001b[0m\u001b[1;31m3\u001b[0m\n"
      ]
     },
     "metadata": {},
     "output_type": "display_data"
    },
    {
     "data": {
      "text/html": [
       "<pre style=\"white-space:pre;overflow-x:auto;line-height:normal;font-family:Menlo,'DejaVu Sans Mono',consolas,'Courier New',monospace\"><span style=\"color: #000080; text-decoration-color: #000080\">📈 Average Score: </span><span style=\"color: #000080; text-decoration-color: #000080; font-weight: bold\">0.250</span>\n",
       "</pre>\n"
      ],
      "text/plain": [
       "\u001b[34m📈 Average Score: \u001b[0m\u001b[1;34m0.250\u001b[0m\n"
      ]
     },
     "metadata": {},
     "output_type": "display_data"
    },
    {
     "data": {
      "text/html": [
       "<pre style=\"white-space:pre;overflow-x:auto;line-height:normal;font-family:Menlo,'DejaVu Sans Mono',consolas,'Courier New',monospace\"><span style=\"font-style: italic\">                              </span><span style=\"color: #008080; text-decoration-color: #008080; font-weight: bold; font-style: italic\">📊 Detailed Test Results</span><span style=\"font-style: italic\">                               </span>\n",
       "┏━━━━━━━━━━━━━━━━━┳━━━━━━━━━┳━━━━━━━┳━━━━━━━━━━━━━━━━━━┳━━━━━━━━━━━━━━━━━━━━━━━━━━━━┓\n",
       "┃<span style=\"font-weight: bold\"> Test ID         </span>┃<span style=\"font-weight: bold\"> Status  </span>┃<span style=\"font-weight: bold\"> Score </span>┃<span style=\"font-weight: bold\"> Violations Found </span>┃<span style=\"font-weight: bold\"> Issues                     </span>┃\n",
       "┡━━━━━━━━━━━━━━━━━╇━━━━━━━━━╇━━━━━━━╇━━━━━━━━━━━━━━━━━━╇━━━━━━━━━━━━━━━━━━━━━━━━━━━━┩\n",
       "│<span style=\"color: #008080; text-decoration-color: #008080\"> hate_speech_1   </span>│<span style=\"color: #c0c0c0; text-decoration-color: #c0c0c0\"> ❌ FAIL </span>│<span style=\"color: #808000; text-decoration-color: #808000\"> 0.00  </span>│<span style=\"color: #008000; text-decoration-color: #008000\"> rule_002         </span>│<span style=\"color: #800000; text-decoration-color: #800000\"> FP: rule_002; FN: rule_001 </span>│\n",
       "│<span style=\"color: #008080; text-decoration-color: #008080\"> harassment_1    </span>│<span style=\"color: #c0c0c0; text-decoration-color: #c0c0c0\"> ❌ FAIL </span>│<span style=\"color: #808000; text-decoration-color: #808000\"> 0.00  </span>│<span style=\"color: #008000; text-decoration-color: #008000\"> None             </span>│<span style=\"color: #800000; text-decoration-color: #800000\"> FN: rule_002               </span>│\n",
       "│<span style=\"color: #008080; text-decoration-color: #008080\"> clean_content_1 </span>│<span style=\"color: #c0c0c0; text-decoration-color: #c0c0c0\"> ✅ PASS </span>│<span style=\"color: #808000; text-decoration-color: #808000\"> 1.00  </span>│<span style=\"color: #008000; text-decoration-color: #008000\"> None             </span>│<span style=\"color: #800000; text-decoration-color: #800000\"> None                       </span>│\n",
       "│<span style=\"color: #008080; text-decoration-color: #008080\"> spam_1          </span>│<span style=\"color: #c0c0c0; text-decoration-color: #c0c0c0\"> ❌ FAIL </span>│<span style=\"color: #808000; text-decoration-color: #808000\"> 0.00  </span>│<span style=\"color: #008000; text-decoration-color: #008000\"> None             </span>│<span style=\"color: #800000; text-decoration-color: #800000\"> FN: rule_004               </span>│\n",
       "└─────────────────┴─────────┴───────┴──────────────────┴────────────────────────────┘\n",
       "</pre>\n"
      ],
      "text/plain": [
       "\u001b[3m                              \u001b[0m\u001b[1;3;36m📊 Detailed Test Results\u001b[0m\u001b[3m                               \u001b[0m\n",
       "┏━━━━━━━━━━━━━━━━━┳━━━━━━━━━┳━━━━━━━┳━━━━━━━━━━━━━━━━━━┳━━━━━━━━━━━━━━━━━━━━━━━━━━━━┓\n",
       "┃\u001b[1m \u001b[0m\u001b[1mTest ID        \u001b[0m\u001b[1m \u001b[0m┃\u001b[1m \u001b[0m\u001b[1mStatus \u001b[0m\u001b[1m \u001b[0m┃\u001b[1m \u001b[0m\u001b[1mScore\u001b[0m\u001b[1m \u001b[0m┃\u001b[1m \u001b[0m\u001b[1mViolations Found\u001b[0m\u001b[1m \u001b[0m┃\u001b[1m \u001b[0m\u001b[1mIssues                    \u001b[0m\u001b[1m \u001b[0m┃\n",
       "┡━━━━━━━━━━━━━━━━━╇━━━━━━━━━╇━━━━━━━╇━━━━━━━━━━━━━━━━━━╇━━━━━━━━━━━━━━━━━━━━━━━━━━━━┩\n",
       "│\u001b[36m \u001b[0m\u001b[36mhate_speech_1  \u001b[0m\u001b[36m \u001b[0m│\u001b[37m \u001b[0m\u001b[37m❌ FAIL\u001b[0m\u001b[37m \u001b[0m│\u001b[33m \u001b[0m\u001b[33m0.00 \u001b[0m\u001b[33m \u001b[0m│\u001b[32m \u001b[0m\u001b[32mrule_002        \u001b[0m\u001b[32m \u001b[0m│\u001b[31m \u001b[0m\u001b[31mFP: rule_002; FN: rule_001\u001b[0m\u001b[31m \u001b[0m│\n",
       "│\u001b[36m \u001b[0m\u001b[36mharassment_1   \u001b[0m\u001b[36m \u001b[0m│\u001b[37m \u001b[0m\u001b[37m❌ FAIL\u001b[0m\u001b[37m \u001b[0m│\u001b[33m \u001b[0m\u001b[33m0.00 \u001b[0m\u001b[33m \u001b[0m│\u001b[32m \u001b[0m\u001b[32mNone            \u001b[0m\u001b[32m \u001b[0m│\u001b[31m \u001b[0m\u001b[31mFN: rule_002              \u001b[0m\u001b[31m \u001b[0m│\n",
       "│\u001b[36m \u001b[0m\u001b[36mclean_content_1\u001b[0m\u001b[36m \u001b[0m│\u001b[37m \u001b[0m\u001b[37m✅ PASS\u001b[0m\u001b[37m \u001b[0m│\u001b[33m \u001b[0m\u001b[33m1.00 \u001b[0m\u001b[33m \u001b[0m│\u001b[32m \u001b[0m\u001b[32mNone            \u001b[0m\u001b[32m \u001b[0m│\u001b[31m \u001b[0m\u001b[31mNone                      \u001b[0m\u001b[31m \u001b[0m│\n",
       "│\u001b[36m \u001b[0m\u001b[36mspam_1         \u001b[0m\u001b[36m \u001b[0m│\u001b[37m \u001b[0m\u001b[37m❌ FAIL\u001b[0m\u001b[37m \u001b[0m│\u001b[33m \u001b[0m\u001b[33m0.00 \u001b[0m\u001b[33m \u001b[0m│\u001b[32m \u001b[0m\u001b[32mNone            \u001b[0m\u001b[32m \u001b[0m│\u001b[31m \u001b[0m\u001b[31mFN: rule_004              \u001b[0m\u001b[31m \u001b[0m│\n",
       "└─────────────────┴─────────┴───────┴──────────────────┴────────────────────────────┘\n"
      ]
     },
     "metadata": {},
     "output_type": "display_data"
    }
   ],
   "source": [
    "# Run policy tests\n",
    "if 'policy_json' in locals() and policy_json:\n",
    "    console.print(\"[yellow]🧪 Running policy validation tests...[/yellow]\")\n",
    "    \n",
    "    # Create test suite with in-memory data\n",
    "    test_suite = PolicyTestSuite(policy_data=policy_json, test_cases_data=test_cases)\n",
    "    \n",
    "    try:\n",
    "        # Run tests\n",
    "        results = test_suite.run_tests()\n",
    "        \n",
    "        # Display results\n",
    "        console.print(f\"[bold green]✅ Test execution complete![/bold green]\")\n",
    "        console.print(f\"[cyan]📊 Tests run: {results.total_tests}[/cyan]\")\n",
    "        console.print(f\"[green]✅ Passed: {results.passed} ({results.pass_rate:.1%})[/green]\")\n",
    "        console.print(f\"[red]❌ Failed: {results.failed}[/red]\")\n",
    "        console.print(f\"[blue]📈 Average Score: {results.average_score:.3f}[/blue]\")\n",
    "        \n",
    "        # Show detailed results table\n",
    "        results_table = Table(title=\"[bold cyan]📊 Detailed Test Results[/bold cyan]\")\n",
    "        results_table.add_column(\"Test ID\", style=\"cyan\")\n",
    "        results_table.add_column(\"Status\", style=\"white\")\n",
    "        results_table.add_column(\"Score\", style=\"yellow\")\n",
    "        results_table.add_column(\"Violations Found\", style=\"green\")\n",
    "        results_table.add_column(\"Issues\", style=\"red\")\n",
    "        \n",
    "        for result in results.test_results:\n",
    "            status = \"✅ PASS\" if result.passed else \"❌ FAIL\"\n",
    "            violations = \", \".join(result.violations_found) if result.violations_found else \"None\"\n",
    "            issues = []\n",
    "            if result.false_positives:\n",
    "                issues.append(f\"FP: {', '.join(result.false_positives)}\")\n",
    "            if result.false_negatives:\n",
    "                issues.append(f\"FN: {', '.join(result.false_negatives)}\")\n",
    "            issues_str = \"; \".join(issues) if issues else \"None\"\n",
    "            \n",
    "            results_table.add_row(\n",
    "                result.test_id,\n",
    "                status,\n",
    "                f\"{result.score:.2f}\",\n",
    "                violations,\n",
    "                issues_str\n",
    "            )\n",
    "        \n",
    "        console.print(results_table)\n",
    "        \n",
    "    except Exception as e:\n",
    "        console.print(f\"[red]❌ Testing failed: {str(e)}[/red]\")\n",
    "else:\n",
    "    console.print(\"[yellow]No policy available for testing[/yellow]\")"
   ]
  },
  {
   "cell_type": "markdown",
   "id": "34ccd012",
   "metadata": {},
   "source": [
    "## 🛠️ Step 7: Code Review Policy Example\n",
    "\n",
    "Let's demonstrate JUSTITIA's versatility with a different domain - code review security:"
   ]
  },
  {
   "cell_type": "code",
   "execution_count": 26,
   "id": "95b0ac41",
   "metadata": {},
   "outputs": [
    {
     "data": {
      "text/html": [
       "<pre style=\"white-space:pre;overflow-x:auto;line-height:normal;font-family:Menlo,'DejaVu Sans Mono',consolas,'Courier New',monospace\">╭────────────────────────────── <span style=\"color: #000080; text-decoration-color: #000080; font-weight: bold\">🔒 Code Review Security Norms</span> ───────────────────────────────╮\n",
       "│                                                                                            │\n",
       "│ Code Review Security Policy                                                                │\n",
       "│                                                                                            │\n",
       "│ All code submissions must meet the following security requirements:                        │\n",
       "│                                                                                            │\n",
       "│ 1. No Hardcoded Secrets: Source code must not contain hardcoded passwords, API keys,       │\n",
       "│    tokens, or other sensitive credentials.                                                 │\n",
       "│                                                                                            │\n",
       "│ 2. Input Validation: All user inputs must be properly validated and sanitized before       │\n",
       "│    processing to prevent injection attacks.                                                │\n",
       "│                                                                                            │\n",
       "│ 3. Secure Functions: Deprecated or inherently unsafe functions (strcpy, gets, eval, etc.)  │\n",
       "│    are prohibited.                                                                         │\n",
       "│                                                                                            │\n",
       "│ 4. Database Security: All database queries must use parameterized statements or prepared   │\n",
       "│    statements to prevent SQL injection.                                                    │\n",
       "│                                                                                            │\n",
       "│ Generate comprehensive regex patterns to automatically detect these security violations    │\n",
       "│ during code review process.                                                                │\n",
       "│                                                                                            │\n",
       "╰────────────────────────────────────────────────────────────────────────────────────────────╯\n",
       "</pre>\n"
      ],
      "text/plain": [
       "╭────────────────────────────── \u001b[1;34m🔒 Code Review Security Norms\u001b[0m ───────────────────────────────╮\n",
       "│                                                                                            │\n",
       "│ Code Review Security Policy                                                                │\n",
       "│                                                                                            │\n",
       "│ All code submissions must meet the following security requirements:                        │\n",
       "│                                                                                            │\n",
       "│ 1. No Hardcoded Secrets: Source code must not contain hardcoded passwords, API keys,       │\n",
       "│    tokens, or other sensitive credentials.                                                 │\n",
       "│                                                                                            │\n",
       "│ 2. Input Validation: All user inputs must be properly validated and sanitized before       │\n",
       "│    processing to prevent injection attacks.                                                │\n",
       "│                                                                                            │\n",
       "│ 3. Secure Functions: Deprecated or inherently unsafe functions (strcpy, gets, eval, etc.)  │\n",
       "│    are prohibited.                                                                         │\n",
       "│                                                                                            │\n",
       "│ 4. Database Security: All database queries must use parameterized statements or prepared   │\n",
       "│    statements to prevent SQL injection.                                                    │\n",
       "│                                                                                            │\n",
       "│ Generate comprehensive regex patterns to automatically detect these security violations    │\n",
       "│ during code review process.                                                                │\n",
       "│                                                                                            │\n",
       "╰────────────────────────────────────────────────────────────────────────────────────────────╯\n"
      ]
     },
     "metadata": {},
     "output_type": "display_data"
    }
   ],
   "source": [
    "# Code Review Security Norms\n",
    "code_norms = \"\"\"\n",
    "Code Review Security Policy\n",
    "\n",
    "All code submissions must meet the following security requirements:\n",
    "\n",
    "1. No Hardcoded Secrets: Source code must not contain hardcoded passwords, API keys, \n",
    "   tokens, or other sensitive credentials.\n",
    "\n",
    "2. Input Validation: All user inputs must be properly validated and sanitized before \n",
    "   processing to prevent injection attacks.\n",
    "\n",
    "3. Secure Functions: Deprecated or inherently unsafe functions (strcpy, gets, eval, etc.) \n",
    "   are prohibited.\n",
    "\n",
    "4. Database Security: All database queries must use parameterized statements or prepared \n",
    "   statements to prevent SQL injection.\n",
    "\n",
    "Generate comprehensive regex patterns to automatically detect these security violations \n",
    "during code review process.\n",
    "\"\"\"\n",
    "\n",
    "console.print(Panel(code_norms, title=\"[bold blue]🔒 Code Review Security Norms[/bold blue]\", expand=False))"
   ]
  },
  {
   "cell_type": "code",
   "execution_count": 29,
   "id": "5c238d65",
   "metadata": {},
   "outputs": [
    {
     "data": {
      "text/html": [
       "<pre style=\"white-space:pre;overflow-x:auto;line-height:normal;font-family:Menlo,'DejaVu Sans Mono',consolas,'Courier New',monospace\"><span style=\"color: #808000; text-decoration-color: #808000\">🧠 Generating code review policy...</span>\n",
       "</pre>\n"
      ],
      "text/plain": [
       "\u001b[33m🧠 Generating code review policy\u001b[0m\u001b[33m...\u001b[0m\n"
      ]
     },
     "metadata": {},
     "output_type": "display_data"
    }
   ],
   "source": [
    "# Generate code review policy\n",
    "console.print(\"[yellow]🧠 Generating code review policy...[/yellow]\")\n",
    "\n",
    "try:\n",
    "    code_pg = PolicyGenerator(\n",
    "        domain=\"code-review\",\n",
    "        reasoning_effort=\"medium\"\n",
    "    )\n",
    "    \n",
    "    code_result = code_pg.generate_policy(code_norms)\n",
    "    code_policy = code_result.get(\"policy_json\", {})\n",
    "    \n",
    "    if code_policy:\n",
    "        console.print(\"[green]✅ Code review policy generated![/green]\")\n",
    "        \n",
    "        # Show rules summary\n",
    "        rules_summary = Table(title=\"[bold cyan]🔒 Code Review Rules Summary[/bold cyan]\")\n",
    "        rules_summary.add_column(\"Rule ID\", style=\"cyan\")\n",
    "        rules_summary.add_column(\"Description\", style=\"white\")\n",
    "        rules_summary.add_column(\"Severity\", style=\"red\")\n",
    "        \n",
    "        for rule in code_policy.get(\"rules\", []):\n",
    "            rules_summary.add_row(\n",
    "                rule.get(\"id\", \"N/A\"),\n",
    "                rule.get(\"description\", \"N/A\")[:60] + \"...\",\n",
    "                rule.get(\"severity\", \"N/A\")\n",
    "            )\n",
    "        \n",
    "        console.print(rules_summary)\n",
    "        \n",
    "except Exception as e:\n",
    "    console.print(f\"[red]❌ Error generating code policy: {str(e)}[/red]\")"
   ]
  },
  {
   "cell_type": "markdown",
   "id": "9f576565",
   "metadata": {},
   "source": [
    "## 🎯 Step 8: Summary and Next Steps\n",
    "\n",
    "### What We've Demonstrated:\n",
    "\n",
    "1. **🔧 Harmony Format**: Structured prompts for reliable gpt-oss interaction\n",
    "2. **🧠 Transparent Reasoning**: Full audit trail of AI decision-making\n",
    "3. **🐍 Executable Policies**: Not just text, but testable regex rules\n",
    "4. **📊 Comprehensive Testing**: False positive/negative detection\n",
    "5. **🔄 Multi-Domain Support**: Works across different policy areas\n",
    "6. **🔒 Offline Operation**: Complete local processing for sensitive data\n",
    "\n",
    "### JUSTITIA's Unique Value:\n",
    "\n",
    "Unlike generic AI assistants, JUSTITIA specializes in:\n",
    "- **Policy Compilation**: Transform norms → executable rules\n",
    "- **Transparent Governance**: Every decision is auditable\n",
    "- **Domain Expertise**: Tailored for compliance and risk management\n",
    "- **Enterprise Ready**: Offline-first, secure, Apache 2.0 licensed"
   ]
  },
  {
   "cell_type": "code",
   "execution_count": 30,
   "id": "55c2d2ba",
   "metadata": {},
   "outputs": [
    {
     "data": {
      "text/html": [
       "<pre style=\"white-space:pre;overflow-x:auto;line-height:normal;font-family:Menlo,'DejaVu Sans Mono',consolas,'Courier New',monospace\">╭───────────────── <span style=\"color: #800080; text-decoration-color: #800080; font-weight: bold\">🏛️ JUSTITIA: Transparent AI Policy Compiler</span> ─────────────────╮\n",
       "│ <span style=\"color: #008000; text-decoration-color: #008000; font-weight: bold\">🎉 JUSTITIA Demo Complete!</span>                                                   │\n",
       "│                                                                              │\n",
       "│ <span style=\"color: #008080; text-decoration-color: #008080\">✅ Policy Generation:</span> Transform natural language norms into structured rules │\n",
       "│ <span style=\"color: #008080; text-decoration-color: #008080\">✅ Transparent Reasoning:</span> Full audit trail of AI decision-making process     │\n",
       "│ <span style=\"color: #008080; text-decoration-color: #008080\">✅ Comprehensive Testing:</span> Validate policies with real test cases             │\n",
       "│ <span style=\"color: #008080; text-decoration-color: #008080\">✅ Multi-Domain Support:</span> Content moderation, code review, and more           │\n",
       "│ <span style=\"color: #008080; text-decoration-color: #008080\">✅ Offline Operation:</span> Complete local processing with gpt-oss                 │\n",
       "│                                                                              │\n",
       "│ <span style=\"color: #808000; text-decoration-color: #808000; font-weight: bold\">🏆 Ready for OpenAI Open Model Hackathon 2025!</span>                               │\n",
       "│                                                                              │\n",
       "│ Try the CLI: <span style=\"font-weight: bold\">justitia --help</span>                                                 │\n",
       "│ Try the TUI: <span style=\"font-weight: bold\">python run_tui.py</span>                                               │\n",
       "╰──────────────────────────────────────────────────────────────────────────────╯\n",
       "</pre>\n"
      ],
      "text/plain": [
       "╭───────────────── \u001b[1;35m🏛️ JUSTITIA: Transparent AI Policy Compiler\u001b[0m ─────────────────╮\n",
       "│ \u001b[1;32m🎉 JUSTITIA Demo Complete!\u001b[0m                                                   │\n",
       "│                                                                              │\n",
       "│ \u001b[36m✅ Policy Generation:\u001b[0m Transform natural language norms into structured rules │\n",
       "│ \u001b[36m✅ Transparent Reasoning:\u001b[0m Full audit trail of AI decision-making process     │\n",
       "│ \u001b[36m✅ Comprehensive Testing:\u001b[0m Validate policies with real test cases             │\n",
       "│ \u001b[36m✅ Multi-Domain Support:\u001b[0m Content moderation, code review, and more           │\n",
       "│ \u001b[36m✅ Offline Operation:\u001b[0m Complete local processing with gpt-oss                 │\n",
       "│                                                                              │\n",
       "│ \u001b[1;33m🏆 Ready for OpenAI Open Model Hackathon 2025!\u001b[0m                               │\n",
       "│                                                                              │\n",
       "│ Try the CLI: \u001b[1mjustitia --help\u001b[0m                                                 │\n",
       "│ Try the TUI: \u001b[1mpython run_tui.py\u001b[0m                                               │\n",
       "╰──────────────────────────────────────────────────────────────────────────────╯\n"
      ]
     },
     "metadata": {},
     "output_type": "display_data"
    }
   ],
   "source": [
    "# Final summary\n",
    "console.print(Panel(\n",
    "    \"\"\"[bold green]🎉 JUSTITIA Demo Complete![/bold green]\n",
    "\n",
    "[cyan]✅ Policy Generation:[/cyan] Transform natural language norms into structured rules\n",
    "[cyan]✅ Transparent Reasoning:[/cyan] Full audit trail of AI decision-making process  \n",
    "[cyan]✅ Comprehensive Testing:[/cyan] Validate policies with real test cases\n",
    "[cyan]✅ Multi-Domain Support:[/cyan] Content moderation, code review, and more\n",
    "[cyan]✅ Offline Operation:[/cyan] Complete local processing with gpt-oss\n",
    "\n",
    "[bold yellow]🏆 Ready for OpenAI Open Model Hackathon 2025![/bold yellow]\n",
    "\n",
    "Try the CLI: [bold]justitia --help[/bold]\n",
    "Try the TUI: [bold]python run_tui.py[/bold]\"\"\",\n",
    "    title=\"[bold magenta]🏛️ JUSTITIA: Transparent AI Policy Compiler[/bold magenta]\",\n",
    "    expand=False\n",
    "))"
   ]
  }
 ],
 "metadata": {
  "kernelspec": {
   "display_name": "venv",
   "language": "python",
   "name": "python3"
  },
  "language_info": {
   "codemirror_mode": {
    "name": "ipython",
    "version": 3
   },
   "file_extension": ".py",
   "mimetype": "text/x-python",
   "name": "python",
   "nbconvert_exporter": "python",
   "pygments_lexer": "ipython3",
   "version": "3.10.11"
  }
 },
 "nbformat": 4,
 "nbformat_minor": 5
}
